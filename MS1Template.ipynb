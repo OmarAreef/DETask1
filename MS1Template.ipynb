{
 "cells": [
  {
   "cell_type": "markdown",
   "metadata": {},
   "source": [
    "*Member 1*\n",
    "\n",
    "Name: Omar Aref \n",
    "\n",
    "ID: 46-5432\n",
    "\n",
    "*Member 2*\n",
    "\n",
    "Name: Hana Adel\n",
    "\n",
    "ID: 46-0377\n",
    "\n",
    "*Member 3*\n",
    "\n",
    "Name: Sarah Halla\n",
    "\n",
    "ID: 46-0431\n",
    "\n",
    "*Member 4*\n",
    "\n",
    "Name: Farida El Genedi  \n",
    "\n",
    "ID: 46-2291\n",
    "\n",
    "*Member 5*\n",
    "\n",
    "Name: Shawky Haitham  \n",
    "\n",
    "ID: 46-3502"
   ]
  },
  {
   "cell_type": "markdown",
   "metadata": {},
   "source": [
    "# Milestone 1 - EDA and Preprocessing data "
   ]
  },
  {
   "cell_type": "markdown",
   "metadata": {},
   "source": [
    "- Load dataset\n",
    "- Explore the dataset and ask atleast 5 questions to give you a better understanding of the data provided to you. \n",
    "- Visualise the answer to these 5 questions.\n",
    "- Cleaing the data\n",
    "- Observe missing data and comment on why you believe it is missing(MCAR,MAR or MNAR) \n",
    "- Observe duplicate data\n",
    "- Observe outliers\n",
    "- After observing outliers,missing data and duplicates, handle any unclean data.\n",
    "- With every change you are making to the data you need to comment on why you used this technique and how has it affected the data(by both showing the change in the data i.e change in number of rows/columns,change in distrubution, etc and commenting on it).\n",
    "- Data transformation and feature engineering\n",
    "- Add a new column named 'Week number' and discretisize the data into weeks according to the dates.Tip: Change the datatype of the date feature to datetime type instead of object.\n",
    "- Encode any categorical feature(s) and comment on why you used this technique and how the data has changed.\n",
    "- Identify feature(s) which need normalisation and show your reasoning.Then choose a technique to normalise the feature(s) and comment on why you chose this technique.\n",
    "- Add atleast two more columns which adds more info to the dataset by evaluating specific feature(s). I.E( Column indicating whether the accident was on a weekend or not). \n",
    "- For any imputation with arbitrary values or encoding done, you have to store what the value imputed or encoded represents in a new csv file. I.e if you impute a missing value with -1 or 100 you must have a csv file illustrating what -1 and 100 means. Or for instance, if you encode cities with 1,2,3,4,etc what each number represents must be shown in the new csv file.\n",
    "- Load the new dataset into a csv file.\n",
    "- **Extremely Important note** - Your code should be as generic as possible and not hard-coded and be able to work with various datasets. Any hard-coded solutions will be severely penalised.\n",
    "- Bonus: Load the dataset as a parquet file instead of a csv file(Parquet file is a compressed file format)."
   ]
  },
  {
   "cell_type": "code",
   "execution_count": 1,
   "metadata": {},
   "outputs": [
    {
     "name": "stdout",
     "output_type": "stream",
     "text": [
      "Requirement already satisfied: seaborn in c:\\users\\omar\\anaconda3\\lib\\site-packages (0.12.1)\n",
      "Requirement already satisfied: pandas>=0.25 in c:\\users\\omar\\anaconda3\\lib\\site-packages (from seaborn) (1.4.1)\n",
      "Requirement already satisfied: matplotlib!=3.6.1,>=3.1 in c:\\users\\omar\\anaconda3\\lib\\site-packages (from seaborn) (3.6.2)\n",
      "Requirement already satisfied: numpy>=1.17 in c:\\users\\omar\\anaconda3\\lib\\site-packages (from seaborn) (1.22.3)\n",
      "Requirement already satisfied: kiwisolver>=1.0.1 in c:\\users\\omar\\anaconda3\\lib\\site-packages (from matplotlib!=3.6.1,>=3.1->seaborn) (1.4.4)\n",
      "Requirement already satisfied: contourpy>=1.0.1 in c:\\users\\omar\\anaconda3\\lib\\site-packages (from matplotlib!=3.6.1,>=3.1->seaborn) (1.0.6)\n",
      "Requirement already satisfied: pyparsing>=2.2.1 in c:\\users\\omar\\anaconda3\\lib\\site-packages (from matplotlib!=3.6.1,>=3.1->seaborn) (2.4.7)\n",
      "Requirement already satisfied: fonttools>=4.22.0 in c:\\users\\omar\\anaconda3\\lib\\site-packages (from matplotlib!=3.6.1,>=3.1->seaborn) (4.38.0)\n",
      "Requirement already satisfied: python-dateutil>=2.7 in c:\\users\\omar\\anaconda3\\lib\\site-packages (from matplotlib!=3.6.1,>=3.1->seaborn) (2.8.2)\n",
      "Requirement already satisfied: pillow>=6.2.0 in c:\\users\\omar\\anaconda3\\lib\\site-packages (from matplotlib!=3.6.1,>=3.1->seaborn) (8.3.1)\n",
      "Requirement already satisfied: packaging>=20.0 in c:\\users\\omar\\anaconda3\\lib\\site-packages (from matplotlib!=3.6.1,>=3.1->seaborn) (21.0)\n",
      "Requirement already satisfied: cycler>=0.10 in c:\\users\\omar\\anaconda3\\lib\\site-packages (from matplotlib!=3.6.1,>=3.1->seaborn) (0.11.0)\n",
      "Requirement already satisfied: pytz>=2020.1 in c:\\users\\omar\\anaconda3\\lib\\site-packages (from pandas>=0.25->seaborn) (2021.1)\n",
      "Requirement already satisfied: six>=1.5 in c:\\users\\omar\\anaconda3\\lib\\site-packages (from python-dateutil>=2.7->matplotlib!=3.6.1,>=3.1->seaborn) (1.16.0)\n",
      "Note: you may need to restart the kernel to use updated packages.\n"
     ]
    }
   ],
   "source": [
    "pip install seaborn\n"
   ]
  },
  {
   "cell_type": "code",
   "execution_count": 2,
   "metadata": {},
   "outputs": [],
   "source": [
    "import pandas as pd \n",
    "import numpy as np \n",
    "import matplotlib.pyplot as plt \n",
    "import seaborn as sb"
   ]
  },
  {
   "cell_type": "markdown",
   "metadata": {},
   "source": [
    "# 1 - Extraction"
   ]
  },
  {
   "cell_type": "code",
   "execution_count": 3,
   "metadata": {},
   "outputs": [],
   "source": [
    "df  = pd.read_csv(\"2020_Accidents_UK.csv\", low_memory=False);\n",
    "sb.set(rc={'figure.figsize':(11.7,8.27)})"
   ]
  },
  {
   "cell_type": "code",
   "execution_count": 4,
   "metadata": {},
   "outputs": [
    {
     "name": "stdout",
     "output_type": "stream",
     "text": [
      "<class 'pandas.core.frame.DataFrame'>\n",
      "RangeIndex: 91199 entries, 0 to 91198\n",
      "Data columns (total 36 columns):\n",
      " #   Column                                       Non-Null Count  Dtype  \n",
      "---  ------                                       --------------  -----  \n",
      " 0   accident_index                               91199 non-null  object \n",
      " 1   accident_year                                91199 non-null  int64  \n",
      " 2   accident_reference                           91199 non-null  object \n",
      " 3   location_easting_osgr                        91185 non-null  float64\n",
      " 4   location_northing_osgr                       91185 non-null  float64\n",
      " 5   longitude                                    91185 non-null  float64\n",
      " 6   latitude                                     91185 non-null  float64\n",
      " 7   police_force                                 91199 non-null  object \n",
      " 8   accident_severity                            91199 non-null  object \n",
      " 9   number_of_vehicles                           91199 non-null  int64  \n",
      " 10  number_of_casualties                         91199 non-null  int64  \n",
      " 11  date                                         91199 non-null  object \n",
      " 12  day_of_week                                  91199 non-null  object \n",
      " 13  time                                         91199 non-null  object \n",
      " 14  local_authority_district                     91199 non-null  object \n",
      " 15  local_authority_ons_district                 91199 non-null  object \n",
      " 16  local_authority_highway                      91199 non-null  object \n",
      " 17  first_road_class                             91199 non-null  object \n",
      " 18  first_road_number                            91199 non-null  object \n",
      " 19  road_type                                    89193 non-null  object \n",
      " 20  speed_limit                                  91199 non-null  object \n",
      " 21  junction_detail                              91199 non-null  object \n",
      " 22  junction_control                             91199 non-null  object \n",
      " 23  second_road_class                            91199 non-null  object \n",
      " 24  second_road_number                           53154 non-null  object \n",
      " 25  pedestrian_crossing_human_control            91199 non-null  object \n",
      " 26  pedestrian_crossing_physical_facilities      91199 non-null  object \n",
      " 27  light_conditions                             91199 non-null  object \n",
      " 28  weather_conditions                           88776 non-null  object \n",
      " 29  road_surface_conditions                      91199 non-null  object \n",
      " 30  special_conditions_at_site                   91199 non-null  object \n",
      " 31  carriageway_hazards                          91199 non-null  object \n",
      " 32  urban_or_rural_area                          91199 non-null  object \n",
      " 33  did_police_officer_attend_scene_of_accident  91199 non-null  object \n",
      " 34  trunk_road_flag                              91199 non-null  object \n",
      " 35  lsoa_of_accident_location                    91199 non-null  object \n",
      "dtypes: float64(4), int64(3), object(29)\n",
      "memory usage: 25.0+ MB\n"
     ]
    }
   ],
   "source": [
    "df.info()"
   ]
  },
  {
   "cell_type": "code",
   "execution_count": 5,
   "metadata": {},
   "outputs": [
    {
     "data": {
      "text/html": [
       "<div>\n",
       "<style scoped>\n",
       "    .dataframe tbody tr th:only-of-type {\n",
       "        vertical-align: middle;\n",
       "    }\n",
       "\n",
       "    .dataframe tbody tr th {\n",
       "        vertical-align: top;\n",
       "    }\n",
       "\n",
       "    .dataframe thead th {\n",
       "        text-align: right;\n",
       "    }\n",
       "</style>\n",
       "<table border=\"1\" class=\"dataframe\">\n",
       "  <thead>\n",
       "    <tr style=\"text-align: right;\">\n",
       "      <th></th>\n",
       "      <th>accident_index</th>\n",
       "      <th>accident_year</th>\n",
       "      <th>accident_reference</th>\n",
       "      <th>location_easting_osgr</th>\n",
       "      <th>location_northing_osgr</th>\n",
       "      <th>longitude</th>\n",
       "      <th>latitude</th>\n",
       "      <th>police_force</th>\n",
       "      <th>accident_severity</th>\n",
       "      <th>number_of_vehicles</th>\n",
       "      <th>...</th>\n",
       "      <th>pedestrian_crossing_physical_facilities</th>\n",
       "      <th>light_conditions</th>\n",
       "      <th>weather_conditions</th>\n",
       "      <th>road_surface_conditions</th>\n",
       "      <th>special_conditions_at_site</th>\n",
       "      <th>carriageway_hazards</th>\n",
       "      <th>urban_or_rural_area</th>\n",
       "      <th>did_police_officer_attend_scene_of_accident</th>\n",
       "      <th>trunk_road_flag</th>\n",
       "      <th>lsoa_of_accident_location</th>\n",
       "    </tr>\n",
       "  </thead>\n",
       "  <tbody>\n",
       "    <tr>\n",
       "      <th>0</th>\n",
       "      <td>2020010219808</td>\n",
       "      <td>2020</td>\n",
       "      <td>010219808</td>\n",
       "      <td>521389.0</td>\n",
       "      <td>175144.0</td>\n",
       "      <td>-0.254001</td>\n",
       "      <td>51.462262</td>\n",
       "      <td>Metropolitan Police</td>\n",
       "      <td>Slight</td>\n",
       "      <td>1</td>\n",
       "      <td>...</td>\n",
       "      <td>unknown (self reported)</td>\n",
       "      <td>Daylight</td>\n",
       "      <td>NaN</td>\n",
       "      <td>unknown (self reported)</td>\n",
       "      <td>None</td>\n",
       "      <td>None</td>\n",
       "      <td>Urban</td>\n",
       "      <td>No - accident was reported using a self comple...</td>\n",
       "      <td>Non-trunk</td>\n",
       "      <td>E01004576</td>\n",
       "    </tr>\n",
       "    <tr>\n",
       "      <th>1</th>\n",
       "      <td>2020010220496</td>\n",
       "      <td>2020</td>\n",
       "      <td>010220496</td>\n",
       "      <td>529337.0</td>\n",
       "      <td>176237.0</td>\n",
       "      <td>-0.139253</td>\n",
       "      <td>51.470327</td>\n",
       "      <td>Metropolitan Police</td>\n",
       "      <td>Slight</td>\n",
       "      <td>1</td>\n",
       "      <td>...</td>\n",
       "      <td>Pelican, puffin, toucan or similar non-junctio...</td>\n",
       "      <td>Daylight</td>\n",
       "      <td>Fine no high winds</td>\n",
       "      <td>Dry</td>\n",
       "      <td>None</td>\n",
       "      <td>None</td>\n",
       "      <td>Urban</td>\n",
       "      <td>Yes</td>\n",
       "      <td>Non-trunk</td>\n",
       "      <td>E01003034</td>\n",
       "    </tr>\n",
       "    <tr>\n",
       "      <th>2</th>\n",
       "      <td>2020010228005</td>\n",
       "      <td>2020</td>\n",
       "      <td>010228005</td>\n",
       "      <td>526432.0</td>\n",
       "      <td>182761.0</td>\n",
       "      <td>-0.178719</td>\n",
       "      <td>51.529614</td>\n",
       "      <td>Metropolitan Police</td>\n",
       "      <td>Slight</td>\n",
       "      <td>1</td>\n",
       "      <td>...</td>\n",
       "      <td>No physical crossing facilities within 50 metres</td>\n",
       "      <td>Darkness - lights lit</td>\n",
       "      <td>Fine no high winds</td>\n",
       "      <td>Wet or damp</td>\n",
       "      <td>None</td>\n",
       "      <td>None</td>\n",
       "      <td>Urban</td>\n",
       "      <td>Yes</td>\n",
       "      <td>Non-trunk</td>\n",
       "      <td>E01004726</td>\n",
       "    </tr>\n",
       "    <tr>\n",
       "      <th>3</th>\n",
       "      <td>2020010228006</td>\n",
       "      <td>2020</td>\n",
       "      <td>010228006</td>\n",
       "      <td>538676.0</td>\n",
       "      <td>184371.0</td>\n",
       "      <td>-0.001683</td>\n",
       "      <td>51.541210</td>\n",
       "      <td>Metropolitan Police</td>\n",
       "      <td>Serious</td>\n",
       "      <td>1</td>\n",
       "      <td>...</td>\n",
       "      <td>Pelican, puffin, toucan or similar non-junctio...</td>\n",
       "      <td>Darkness - lights lit</td>\n",
       "      <td>Fine no high winds</td>\n",
       "      <td>Dry</td>\n",
       "      <td>None</td>\n",
       "      <td>None</td>\n",
       "      <td>Urban</td>\n",
       "      <td>Yes</td>\n",
       "      <td>Non-trunk</td>\n",
       "      <td>E01003617</td>\n",
       "    </tr>\n",
       "    <tr>\n",
       "      <th>4</th>\n",
       "      <td>2020010228011</td>\n",
       "      <td>2020</td>\n",
       "      <td>010228011</td>\n",
       "      <td>529324.0</td>\n",
       "      <td>181286.0</td>\n",
       "      <td>-0.137592</td>\n",
       "      <td>51.515704</td>\n",
       "      <td>Metropolitan Police</td>\n",
       "      <td>Slight</td>\n",
       "      <td>1</td>\n",
       "      <td>...</td>\n",
       "      <td>No physical crossing facilities within 50 metres</td>\n",
       "      <td>Darkness - lights lit</td>\n",
       "      <td>Fine no high winds</td>\n",
       "      <td>Dry</td>\n",
       "      <td>None</td>\n",
       "      <td>None</td>\n",
       "      <td>Urban</td>\n",
       "      <td>Yes</td>\n",
       "      <td>Non-trunk</td>\n",
       "      <td>E01004763</td>\n",
       "    </tr>\n",
       "  </tbody>\n",
       "</table>\n",
       "<p>5 rows × 36 columns</p>\n",
       "</div>"
      ],
      "text/plain": [
       "  accident_index  accident_year accident_reference  location_easting_osgr  \\\n",
       "0  2020010219808           2020          010219808               521389.0   \n",
       "1  2020010220496           2020          010220496               529337.0   \n",
       "2  2020010228005           2020          010228005               526432.0   \n",
       "3  2020010228006           2020          010228006               538676.0   \n",
       "4  2020010228011           2020          010228011               529324.0   \n",
       "\n",
       "   location_northing_osgr  longitude   latitude         police_force  \\\n",
       "0                175144.0  -0.254001  51.462262  Metropolitan Police   \n",
       "1                176237.0  -0.139253  51.470327  Metropolitan Police   \n",
       "2                182761.0  -0.178719  51.529614  Metropolitan Police   \n",
       "3                184371.0  -0.001683  51.541210  Metropolitan Police   \n",
       "4                181286.0  -0.137592  51.515704  Metropolitan Police   \n",
       "\n",
       "  accident_severity  number_of_vehicles  ...  \\\n",
       "0            Slight                   1  ...   \n",
       "1            Slight                   1  ...   \n",
       "2            Slight                   1  ...   \n",
       "3           Serious                   1  ...   \n",
       "4            Slight                   1  ...   \n",
       "\n",
       "             pedestrian_crossing_physical_facilities       light_conditions  \\\n",
       "0                            unknown (self reported)               Daylight   \n",
       "1  Pelican, puffin, toucan or similar non-junctio...               Daylight   \n",
       "2   No physical crossing facilities within 50 metres  Darkness - lights lit   \n",
       "3  Pelican, puffin, toucan or similar non-junctio...  Darkness - lights lit   \n",
       "4   No physical crossing facilities within 50 metres  Darkness - lights lit   \n",
       "\n",
       "   weather_conditions  road_surface_conditions special_conditions_at_site  \\\n",
       "0                 NaN  unknown (self reported)                       None   \n",
       "1  Fine no high winds                      Dry                       None   \n",
       "2  Fine no high winds              Wet or damp                       None   \n",
       "3  Fine no high winds                      Dry                       None   \n",
       "4  Fine no high winds                      Dry                       None   \n",
       "\n",
       "  carriageway_hazards urban_or_rural_area  \\\n",
       "0                None               Urban   \n",
       "1                None               Urban   \n",
       "2                None               Urban   \n",
       "3                None               Urban   \n",
       "4                None               Urban   \n",
       "\n",
       "         did_police_officer_attend_scene_of_accident trunk_road_flag  \\\n",
       "0  No - accident was reported using a self comple...       Non-trunk   \n",
       "1                                                Yes       Non-trunk   \n",
       "2                                                Yes       Non-trunk   \n",
       "3                                                Yes       Non-trunk   \n",
       "4                                                Yes       Non-trunk   \n",
       "\n",
       "  lsoa_of_accident_location  \n",
       "0                 E01004576  \n",
       "1                 E01003034  \n",
       "2                 E01004726  \n",
       "3                 E01003617  \n",
       "4                 E01004763  \n",
       "\n",
       "[5 rows x 36 columns]"
      ]
     },
     "execution_count": 5,
     "metadata": {},
     "output_type": "execute_result"
    }
   ],
   "source": [
    "df.head()"
   ]
  },
  {
   "cell_type": "markdown",
   "metadata": {},
   "source": [
    "# 2- EDA"
   ]
  },
  {
   "cell_type": "markdown",
   "metadata": {},
   "source": [
    "### Question 1: What are the most frequent locations (clusters) that have accidents ? we will use the latitude and longitude data found in the dataset provided.  \n"
   ]
  },
  {
   "cell_type": "code",
   "execution_count": 6,
   "metadata": {},
   "outputs": [
    {
     "data": {
      "image/png": "[encoded data removed]",
      "text/plain": [
       "<Figure size 432x288 with 1 Axes>"
      ]
     },
     "metadata": {
      "needs_background": "light"
     },
     "output_type": "display_data"
    }
   ],
   "source": [
    "plt.plot(df['longitude'], df['latitude'], 'o', );\n"
   ]
  },
  {
   "cell_type": "markdown",
   "metadata": {},
   "source": [
    "We can see that there are many points in the data, so we will need to plot every 150th point to deteremine any pattern "
   ]
  },
  {
   "cell_type": "code",
   "execution_count": 7,
   "metadata": {},
   "outputs": [
    {
     "data": {
      "image/png": "[encoded data removed]",
      "text/plain": [
       "<Figure size 432x288 with 1 Axes>"
      ]
     },
     "metadata": {
      "needs_background": "light"
     },
     "output_type": "display_data"
    }
   ],
   "source": [
    "plt.plot(df['longitude'], df['latitude'], 'o', ms=6, markevery=150);\n"
   ]
  },
  {
   "cell_type": "markdown",
   "metadata": {},
   "source": [
    "We can now see the resemblance between the figure and the map of the UK, and we also can see the distribution of the accidents in the lower right corner where there are huge population centers and the middle left on the coastal cities of liverpool and the near manchester city."
   ]
  },
  {
   "cell_type": "markdown",
   "metadata": {},
   "source": [
    "### Question 2: does the day of the week affect the number of accidents ? and does the time of the day have an effect on the number of accidents ? "
   ]
  },
  {
   "cell_type": "code",
   "execution_count": 8,
   "metadata": {},
   "outputs": [
    {
     "data": {
      "image/png": "[encoded data removed]",
      "text/plain": [
       "<Figure size 432x288 with 1 Axes>"
      ]
     },
     "metadata": {
      "needs_background": "light"
     },
     "output_type": "display_data"
    }
   ],
   "source": [
    "sb.histplot(df['day_of_week'], shrink=.8)\n",
    "plt.xticks(rotation=45);\n",
    "# plt.hist(df['day_of_week'])"
   ]
  },
  {
   "cell_type": "markdown",
   "metadata": {},
   "source": [
    "We can see that the number of the accidents is at a peak on fridays and drops significantly on the weekends. We now will analyze the time of the day and the number of accidents corelated to that time"
   ]
  },
  {
   "cell_type": "code",
   "execution_count": 9,
   "metadata": {},
   "outputs": [
    {
     "data": {
      "text/plain": [
       "0    09:00\n",
       "1    13:55\n",
       "2    01:25\n",
       "3    01:50\n",
       "4    02:25\n",
       "Name: time, dtype: object"
      ]
     },
     "execution_count": 9,
     "metadata": {},
     "output_type": "execute_result"
    }
   ],
   "source": [
    "df['time'].head()"
   ]
  },
  {
   "cell_type": "code",
   "execution_count": 10,
   "metadata": {},
   "outputs": [],
   "source": [
    "def get_hour (x:str) :\n",
    "    return (x.split(':')[0])\n",
    "\n",
    "df['time_hour']= df['time'].apply(get_hour)\n"
   ]
  },
  {
   "cell_type": "code",
   "execution_count": 11,
   "metadata": {},
   "outputs": [
    {
     "data": {
      "image/png": "[encoded data removed]",
      "text/plain": [
       "<Figure size 432x288 with 1 Axes>"
      ]
     },
     "metadata": {
      "needs_background": "light"
     },
     "output_type": "display_data"
    }
   ],
   "source": [
    "sb.histplot(np.sort(df['time_hour']), shrink=.8,  bins=24)\n",
    "plt.xticks(rotation=45);"
   ]
  },
  {
   "cell_type": "markdown",
   "metadata": {},
   "source": [
    "We can notice that accidents happen the most at 6pm and this is due to the fact that at this time it is usually the rush hour "
   ]
  },
  {
   "cell_type": "markdown",
   "metadata": {},
   "source": [
    "## We will now delve in the multivariate exploration of the data\n",
    "### Question 3: We will now explore the relationship between the road type and the severity and the number of causalties in that accident "
   ]
  },
  {
   "cell_type": "code",
   "execution_count": 12,
   "metadata": {},
   "outputs": [
    {
     "data": {
      "text/plain": [
       "array(['Single carriageway', 'One way street', 'Dual carriageway',\n",
       "       'Slip road', 'Roundabout', nan], dtype=object)"
      ]
     },
     "execution_count": 12,
     "metadata": {},
     "output_type": "execute_result"
    }
   ],
   "source": [
    "df['road_type'].unique()"
   ]
  },
  {
   "cell_type": "code",
   "execution_count": 13,
   "metadata": {},
   "outputs": [
    {
     "data": {
      "text/plain": [
       "array(['Slight', 'Serious', 'Fatal'], dtype=object)"
      ]
     },
     "execution_count": 13,
     "metadata": {},
     "output_type": "execute_result"
    }
   ],
   "source": [
    "df['accident_severity'].unique()"
   ]
  },
  {
   "cell_type": "code",
   "execution_count": 14,
   "metadata": {},
   "outputs": [
    {
     "data": {
      "text/plain": [
       "91199"
      ]
     },
     "execution_count": 14,
     "metadata": {},
     "output_type": "execute_result"
    }
   ],
   "source": [
    "df['number_of_casualties'].count()"
   ]
  },
  {
   "cell_type": "code",
   "execution_count": 15,
   "metadata": {},
   "outputs": [
    {
     "data": {
      "image/png": "[encoded data removed]",
      "text/plain": [
       "<Figure size 461.55x360 with 1 Axes>"
      ]
     },
     "metadata": {
      "needs_background": "light"
     },
     "output_type": "display_data"
    }
   ],
   "source": [
    "df1 = df.groupby(\"road_type\")[\"accident_severity\"].value_counts(normalize=True)\n",
    "df1 = df1.mul(100)\n",
    "df1 = df1.rename('percent').reset_index()\n",
    "sb.catplot(data=df1, x=\"road_type\", y=\"percent\", hue=\"accident_severity\", kind=\"bar\")\n",
    "plt.xticks(rotation=45);\n"
   ]
  },
  {
   "cell_type": "markdown",
   "metadata": {},
   "source": [
    "We can see that that the singel carriageway has more serious and fatal accidents compared to other road types."
   ]
  },
  {
   "cell_type": "code",
   "execution_count": 16,
   "metadata": {},
   "outputs": [
    {
     "data": {
      "image/png": "[encoded data removed]",
      "text/plain": [
       "<Figure size 360x360 with 1 Axes>"
      ]
     },
     "metadata": {
      "needs_background": "light"
     },
     "output_type": "display_data"
    }
   ],
   "source": [
    "sb.catplot(data=df, x=\"road_type\", y=\"number_of_casualties\")\n",
    "plt.xticks(rotation=45);\n"
   ]
  },
  {
   "cell_type": "code",
   "execution_count": 20,
   "metadata": {},
   "outputs": [
    {
     "data": {
      "image/png": "[encoded data removed]",
      "text/plain": [
       "<Figure size 432x288 with 1 Axes>"
      ]
     },
     "metadata": {
      "needs_background": "light"
     },
     "output_type": "display_data"
    }
   ],
   "source": [
    "sb.histplot(np.sort(df['speed_limit']), shrink=.8,)\n",
    "plt.xticks(rotation=45);"
   ]
  },
  {
   "cell_type": "code",
   "execution_count": 22,
   "metadata": {},
   "outputs": [
    {
     "data": {
      "text/plain": [
       "30.0                            52260\n",
       "60.0                            11408\n",
       "20.0                            11183\n",
       "40.0                             7867\n",
       "70.0                             4687\n",
       "50.0                             3782\n",
       "Data missing or out of range       12\n",
       "Name: speed_limit, dtype: int64"
      ]
     },
     "execution_count": 22,
     "metadata": {},
     "output_type": "execute_result"
    }
   ],
   "source": [
    "df['speed_limit'].value_counts()"
   ]
  },
  {
   "cell_type": "code",
   "execution_count": 26,
   "metadata": {},
   "outputs": [
    {
     "data": {
      "image/png": "[encoded data removed]",
      "text/plain": [
       "<Figure size 461.55x360 with 1 Axes>"
      ]
     },
     "metadata": {
      "needs_background": "light"
     },
     "output_type": "display_data"
    }
   ],
   "source": [
    "df1 = df.groupby(\"speed_limit\")[\"accident_severity\"].value_counts(normalize=True)\n",
    "df1 = df1.mul(100)\n",
    "df1 = df1.rename('percent').reset_index()\n",
    "sb.catplot(data=df1, x=\"speed_limit\", y=\"percent\", hue=\"accident_severity\", kind=\"bar\")\n",
    "plt.xticks(rotation=45);"
   ]
  },
  {
   "cell_type": "markdown",
   "metadata": {},
   "source": [
    "Finished EDA"
   ]
  },
  {
   "cell_type": "code",
   "execution_count": null,
   "metadata": {},
   "outputs": [],
   "source": []
  },
  {
   "cell_type": "markdown",
   "metadata": {},
   "source": [
    "# 3 - Cleaning Data"
   ]
  },
  {
   "cell_type": "markdown",
   "metadata": {},
   "source": [
    "## Observing Missing and duplicate Data"
   ]
  },
  {
   "cell_type": "code",
   "execution_count": null,
   "metadata": {},
   "outputs": [],
   "source": []
  },
  {
   "cell_type": "code",
   "execution_count": null,
   "metadata": {},
   "outputs": [],
   "source": []
  },
  {
   "cell_type": "code",
   "execution_count": null,
   "metadata": {},
   "outputs": [],
   "source": []
  },
  {
   "cell_type": "markdown",
   "metadata": {},
   "source": [
    "## Handling Missing data"
   ]
  },
  {
   "cell_type": "code",
   "execution_count": null,
   "metadata": {},
   "outputs": [],
   "source": []
  },
  {
   "cell_type": "code",
   "execution_count": null,
   "metadata": {},
   "outputs": [],
   "source": []
  },
  {
   "cell_type": "code",
   "execution_count": null,
   "metadata": {},
   "outputs": [],
   "source": []
  },
  {
   "cell_type": "markdown",
   "metadata": {},
   "source": [
    "## Findings and conclusions"
   ]
  },
  {
   "cell_type": "code",
   "execution_count": null,
   "metadata": {},
   "outputs": [],
   "source": []
  },
  {
   "cell_type": "code",
   "execution_count": null,
   "metadata": {},
   "outputs": [],
   "source": []
  },
  {
   "cell_type": "markdown",
   "metadata": {},
   "source": [
    "## Observing outliers"
   ]
  },
  {
   "cell_type": "code",
   "execution_count": null,
   "metadata": {},
   "outputs": [],
   "source": []
  },
  {
   "cell_type": "code",
   "execution_count": null,
   "metadata": {},
   "outputs": [],
   "source": []
  },
  {
   "cell_type": "code",
   "execution_count": null,
   "metadata": {},
   "outputs": [],
   "source": []
  },
  {
   "cell_type": "markdown",
   "metadata": {},
   "source": [
    "## Handling outliers"
   ]
  },
  {
   "cell_type": "code",
   "execution_count": null,
   "metadata": {},
   "outputs": [],
   "source": []
  },
  {
   "cell_type": "code",
   "execution_count": null,
   "metadata": {},
   "outputs": [],
   "source": []
  },
  {
   "cell_type": "code",
   "execution_count": null,
   "metadata": {},
   "outputs": [],
   "source": []
  },
  {
   "cell_type": "markdown",
   "metadata": {},
   "source": [
    "## Findings and conclusions"
   ]
  },
  {
   "cell_type": "code",
   "execution_count": null,
   "metadata": {},
   "outputs": [],
   "source": []
  },
  {
   "cell_type": "code",
   "execution_count": null,
   "metadata": {},
   "outputs": [],
   "source": []
  },
  {
   "cell_type": "code",
   "execution_count": null,
   "metadata": {},
   "outputs": [],
   "source": []
  },
  {
   "cell_type": "markdown",
   "metadata": {},
   "source": [
    "# 4 - Data transformation"
   ]
  },
  {
   "cell_type": "markdown",
   "metadata": {},
   "source": [
    "## 4.1 - Discretization"
   ]
  },
  {
   "cell_type": "code",
   "execution_count": null,
   "metadata": {},
   "outputs": [],
   "source": []
  },
  {
   "cell_type": "code",
   "execution_count": null,
   "metadata": {},
   "outputs": [],
   "source": []
  },
  {
   "cell_type": "code",
   "execution_count": null,
   "metadata": {},
   "outputs": [],
   "source": []
  },
  {
   "cell_type": "markdown",
   "metadata": {},
   "source": [
    "## 4.11 - Findings and conclusions"
   ]
  },
  {
   "cell_type": "code",
   "execution_count": null,
   "metadata": {},
   "outputs": [],
   "source": []
  },
  {
   "cell_type": "code",
   "execution_count": null,
   "metadata": {},
   "outputs": [],
   "source": []
  },
  {
   "cell_type": "code",
   "execution_count": null,
   "metadata": {},
   "outputs": [],
   "source": []
  },
  {
   "cell_type": "markdown",
   "metadata": {},
   "source": [
    "## 4.2 - Encoding"
   ]
  },
  {
   "cell_type": "code",
   "execution_count": null,
   "metadata": {},
   "outputs": [],
   "source": []
  },
  {
   "cell_type": "code",
   "execution_count": null,
   "metadata": {},
   "outputs": [],
   "source": []
  },
  {
   "cell_type": "code",
   "execution_count": null,
   "metadata": {},
   "outputs": [],
   "source": []
  },
  {
   "cell_type": "markdown",
   "metadata": {},
   "source": [
    "## 4.22 - Findings and conlcusions"
   ]
  },
  {
   "cell_type": "code",
   "execution_count": null,
   "metadata": {},
   "outputs": [],
   "source": []
  },
  {
   "cell_type": "code",
   "execution_count": null,
   "metadata": {},
   "outputs": [],
   "source": []
  },
  {
   "cell_type": "code",
   "execution_count": null,
   "metadata": {},
   "outputs": [],
   "source": []
  },
  {
   "cell_type": "markdown",
   "metadata": {},
   "source": [
    "## 4.3 - Normalisation "
   ]
  },
  {
   "cell_type": "code",
   "execution_count": null,
   "metadata": {},
   "outputs": [],
   "source": []
  },
  {
   "cell_type": "code",
   "execution_count": null,
   "metadata": {},
   "outputs": [],
   "source": []
  },
  {
   "cell_type": "code",
   "execution_count": null,
   "metadata": {},
   "outputs": [],
   "source": []
  },
  {
   "cell_type": "markdown",
   "metadata": {},
   "source": [
    "## 4.31 - Findings and conclusions"
   ]
  },
  {
   "cell_type": "code",
   "execution_count": null,
   "metadata": {},
   "outputs": [],
   "source": []
  },
  {
   "cell_type": "code",
   "execution_count": null,
   "metadata": {},
   "outputs": [],
   "source": []
  },
  {
   "cell_type": "code",
   "execution_count": null,
   "metadata": {},
   "outputs": [],
   "source": []
  },
  {
   "cell_type": "markdown",
   "metadata": {},
   "source": [
    "## 4.4 - Adding more columns"
   ]
  },
  {
   "cell_type": "code",
   "execution_count": null,
   "metadata": {},
   "outputs": [],
   "source": []
  },
  {
   "cell_type": "code",
   "execution_count": null,
   "metadata": {},
   "outputs": [],
   "source": []
  },
  {
   "cell_type": "code",
   "execution_count": null,
   "metadata": {},
   "outputs": [],
   "source": []
  },
  {
   "cell_type": "markdown",
   "metadata": {},
   "source": [
    "## 4.41 - Findings and concluisons"
   ]
  },
  {
   "cell_type": "code",
   "execution_count": null,
   "metadata": {},
   "outputs": [],
   "source": []
  },
  {
   "cell_type": "code",
   "execution_count": null,
   "metadata": {},
   "outputs": [],
   "source": []
  },
  {
   "cell_type": "markdown",
   "metadata": {},
   "source": [
    "## 4.5 - Csv file for lookup"
   ]
  },
  {
   "cell_type": "code",
   "execution_count": null,
   "metadata": {},
   "outputs": [],
   "source": []
  },
  {
   "cell_type": "code",
   "execution_count": null,
   "metadata": {},
   "outputs": [],
   "source": []
  },
  {
   "cell_type": "code",
   "execution_count": null,
   "metadata": {},
   "outputs": [],
   "source": []
  },
  {
   "cell_type": "markdown",
   "metadata": {},
   "source": [
    "## 5- Exporting the dataframe to a csv file or parquet"
   ]
  },
  {
   "cell_type": "code",
   "execution_count": null,
   "metadata": {},
   "outputs": [],
   "source": []
  },
  {
   "cell_type": "code",
   "execution_count": null,
   "metadata": {},
   "outputs": [],
   "source": []
  }
 ],
 "metadata": {
  "kernelspec": {
   "display_name": "Python 3.8.5 ('base')",
   "language": "python",
   "name": "python3"
  },
  "language_info": {
   "codemirror_mode": {
    "name": "ipython",
    "version": 3
   },
   "file_extension": ".py",
   "mimetype": "text/x-python",
   "name": "python",
   "nbconvert_exporter": "python",
   "pygments_lexer": "ipython3",
   "version": "3.8.5"
  },
  "vscode": {
   "interpreter": {
    "hash": "93cb1669ec1c1464abe0a32a9f7e7689e5367599bd2dccc7b473e732db403ba0"
   }
  }
 },
 "nbformat": 4,
 "nbformat_minor": 4
}
