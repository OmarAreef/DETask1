{
  "cells": [
    {
      "cell_type": "markdown",
      "metadata": {
        "id": "VieD3zsXP2JZ"
      },
      "source": [
        "*Member 1*\n",
        "\n",
        "Name: Omar Aref \n",
        "\n",
        "ID: 46-5432\n",
        "\n",
        "*Member 2*\n",
        "\n",
        "Name: Hana Adel\n",
        "\n",
        "ID: 46-0377\n",
        "\n",
        "*Member 3*\n",
        "\n",
        "Name: Sarah Halla\n",
        "\n",
        "ID: 46-0431\n",
        "\n",
        "*Member 4*\n",
        "\n",
        "Name: Farida El Genedi  \n",
        "\n",
        "ID: 46-2291\n",
        "\n",
        "*Member 5*\n",
        "\n",
        "Name: Shawky Haitham  \n",
        "\n",
        "ID: 46-3502"
      ]
    },
    {
      "cell_type": "markdown",
      "metadata": {
        "id": "PCazXy08P2Ji"
      },
      "source": [
        "# Milestone 1 - EDA and Preprocessing data "
      ]
    },
    {
      "cell_type": "markdown",
      "metadata": {
        "id": "bVpTrqXIP2Jj"
      },
      "source": [
        "- Load dataset\n",
        "- Explore the dataset and ask atleast 5 questions to give you a better understanding of the data provided to you. \n",
        "- Visualise the answer to these 5 questions.\n",
        "- Cleaing the data\n",
        "- Observe missing data and comment on why you believe it is missing(MCAR,MAR or MNAR) \n",
        "- Observe duplicate data\n",
        "- Observe outliers\n",
        "- After observing outliers,missing data and duplicates, handle any unclean data.\n",
        "- With every change you are making to the data you need to comment on why you used this technique and how has it affected the data(by both showing the change in the data i.e change in number of rows/columns,change in distrubution, etc and commenting on it).\n",
        "- Data transformation and feature engineering\n",
        "- Add a new column named 'Week number' and discretisize the data into weeks according to the dates.Tip: Change the datatype of the date feature to datetime type instead of object.\n",
        "- Encode any categorical feature(s) and comment on why you used this technique and how the data has changed.\n",
        "- Identify feature(s) which need normalisation and show your reasoning.Then choose a technique to normalise the feature(s) and comment on why you chose this technique.\n",
        "- Add atleast two more columns which adds more info to the dataset by evaluating specific feature(s). I.E( Column indicating whether the accident was on a weekend or not). \n",
        "- For any imputation with arbitrary values or encoding done, you have to store what the value imputed or encoded represents in a new csv file. I.e if you impute a missing value with -1 or 100 you must have a csv file illustrating what -1 and 100 means. Or for instance, if you encode cities with 1,2,3,4,etc what each number represents must be shown in the new csv file.\n",
        "- Load the new dataset into a csv file.\n",
        "- **Extremely Important note** - Your code should be as generic as possible and not hard-coded and be able to work with various datasets. Any hard-coded solutions will be severely penalised.\n",
        "- Bonus: Load the dataset as a parquet file instead of a csv file(Parquet file is a compressed file format)."
      ]
    },
    {
      "cell_type": "code",
      "execution_count": 4,
      "metadata": {
        "colab": {
          "base_uri": "https://localhost:8080/"
        },
        "id": "6ZEVIwwtP2Jl",
        "outputId": "3a8db8f3-cd61-41d1-f120-554064027e01"
      },
      "outputs": [
        {
          "output_type": "stream",
          "name": "stdout",
          "text": [
            "Looking in indexes: https://pypi.org/simple, https://us-python.pkg.dev/colab-wheels/public/simple/\n",
            "Requirement already satisfied: seaborn in /usr/local/lib/python3.7/dist-packages (0.11.2)\n",
            "Requirement already satisfied: pandas>=0.23 in /usr/local/lib/python3.7/dist-packages (from seaborn) (1.3.5)\n",
            "Requirement already satisfied: matplotlib>=2.2 in /usr/local/lib/python3.7/dist-packages (from seaborn) (3.2.2)\n",
            "Requirement already satisfied: scipy>=1.0 in /usr/local/lib/python3.7/dist-packages (from seaborn) (1.7.3)\n",
            "Requirement already satisfied: numpy>=1.15 in /usr/local/lib/python3.7/dist-packages (from seaborn) (1.21.6)\n",
            "Requirement already satisfied: python-dateutil>=2.1 in /usr/local/lib/python3.7/dist-packages (from matplotlib>=2.2->seaborn) (2.8.2)\n",
            "Requirement already satisfied: cycler>=0.10 in /usr/local/lib/python3.7/dist-packages (from matplotlib>=2.2->seaborn) (0.11.0)\n",
            "Requirement already satisfied: pyparsing!=2.0.4,!=2.1.2,!=2.1.6,>=2.0.1 in /usr/local/lib/python3.7/dist-packages (from matplotlib>=2.2->seaborn) (3.0.9)\n",
            "Requirement already satisfied: kiwisolver>=1.0.1 in /usr/local/lib/python3.7/dist-packages (from matplotlib>=2.2->seaborn) (1.4.4)\n",
            "Requirement already satisfied: typing-extensions in /usr/local/lib/python3.7/dist-packages (from kiwisolver>=1.0.1->matplotlib>=2.2->seaborn) (4.1.1)\n",
            "Requirement already satisfied: pytz>=2017.3 in /usr/local/lib/python3.7/dist-packages (from pandas>=0.23->seaborn) (2022.6)\n",
            "Requirement already satisfied: six>=1.5 in /usr/local/lib/python3.7/dist-packages (from python-dateutil>=2.1->matplotlib>=2.2->seaborn) (1.15.0)\n"
          ]
        }
      ],
      "source": [
        "pip install seaborn\n"
      ]
    },
    {
      "cell_type": "code",
      "execution_count": 5,
      "metadata": {
        "id": "FRMdMz-4P2Jo"
      },
      "outputs": [],
      "source": [
        "import pandas as pd \n",
        "import numpy as np \n",
        "import matplotlib.pyplot as plt \n",
        "import seaborn as sb"
      ]
    },
    {
      "cell_type": "markdown",
      "metadata": {
        "id": "4ROdRLb0P2Jp"
      },
      "source": [
        "# 1 - Extraction"
      ]
    },
    {
      "cell_type": "code",
      "execution_count": 6,
      "metadata": {
        "id": "6ceQpdXKP2Jq"
      },
      "outputs": [],
      "source": [
        "df  = pd.read_csv(\"2020_Accidents_UK.csv\", low_memory=False);\n",
        "sb.set(rc={'figure.figsize':(11.7,8.27)})"
      ]
    },
    {
      "cell_type": "code",
      "execution_count": 7,
      "metadata": {
        "colab": {
          "base_uri": "https://localhost:8080/"
        },
        "id": "dkjjQKcyP2Js",
        "outputId": "38d2f9a4-ab3e-4687-9a22-6828e65b2bf0"
      },
      "outputs": [
        {
          "output_type": "stream",
          "name": "stdout",
          "text": [
            "<class 'pandas.core.frame.DataFrame'>\n",
            "RangeIndex: 62033 entries, 0 to 62032\n",
            "Data columns (total 36 columns):\n",
            " #   Column                                       Non-Null Count  Dtype  \n",
            "---  ------                                       --------------  -----  \n",
            " 0   accident_index                               62033 non-null  object \n",
            " 1   accident_year                                62033 non-null  int64  \n",
            " 2   accident_reference                           62033 non-null  object \n",
            " 3   location_easting_osgr                        62029 non-null  float64\n",
            " 4   location_northing_osgr                       62029 non-null  float64\n",
            " 5   longitude                                    62029 non-null  float64\n",
            " 6   latitude                                     62029 non-null  float64\n",
            " 7   police_force                                 62033 non-null  object \n",
            " 8   accident_severity                            62033 non-null  object \n",
            " 9   number_of_vehicles                           62033 non-null  int64  \n",
            " 10  number_of_casualties                         62033 non-null  int64  \n",
            " 11  date                                         62033 non-null  object \n",
            " 12  day_of_week                                  62033 non-null  object \n",
            " 13  time                                         62033 non-null  object \n",
            " 14  local_authority_district                     62033 non-null  object \n",
            " 15  local_authority_ons_district                 62033 non-null  object \n",
            " 16  local_authority_highway                      62033 non-null  object \n",
            " 17  first_road_class                             62033 non-null  object \n",
            " 18  first_road_number                            62033 non-null  object \n",
            " 19  road_type                                    60249 non-null  object \n",
            " 20  speed_limit                                  62033 non-null  object \n",
            " 21  junction_detail                              62033 non-null  object \n",
            " 22  junction_control                             62033 non-null  object \n",
            " 23  second_road_class                            62033 non-null  object \n",
            " 24  second_road_number                           38402 non-null  object \n",
            " 25  pedestrian_crossing_human_control            62033 non-null  object \n",
            " 26  pedestrian_crossing_physical_facilities      62033 non-null  object \n",
            " 27  light_conditions                             62032 non-null  object \n",
            " 28  weather_conditions                           60130 non-null  object \n",
            " 29  road_surface_conditions                      62032 non-null  object \n",
            " 30  special_conditions_at_site                   62032 non-null  object \n",
            " 31  carriageway_hazards                          62032 non-null  object \n",
            " 32  urban_or_rural_area                          62032 non-null  object \n",
            " 33  did_police_officer_attend_scene_of_accident  62032 non-null  object \n",
            " 34  trunk_road_flag                              62032 non-null  object \n",
            " 35  lsoa_of_accident_location                    62032 non-null  object \n",
            "dtypes: float64(4), int64(3), object(29)\n",
            "memory usage: 17.0+ MB\n"
          ]
        }
      ],
      "source": [
        "df.info()"
      ]
    },
    {
      "cell_type": "code",
      "execution_count": 8,
      "metadata": {
        "colab": {
          "base_uri": "https://localhost:8080/",
          "height": 386
        },
        "id": "fU3NXQKpP2Jt",
        "outputId": "fe6973b8-eb1a-4452-b5d7-f1de840b988b"
      },
      "outputs": [
        {
          "output_type": "execute_result",
          "data": {
            "text/plain": [
              "  accident_index  accident_year accident_reference  location_easting_osgr  \\\n",
              "0  2020010219808           2020          010219808               521389.0   \n",
              "1  2020010220496           2020          010220496               529337.0   \n",
              "2  2020010228005           2020          010228005               526432.0   \n",
              "3  2020010228006           2020          010228006               538676.0   \n",
              "4  2020010228011           2020          010228011               529324.0   \n",
              "\n",
              "   location_northing_osgr  longitude   latitude         police_force  \\\n",
              "0                175144.0  -0.254001  51.462262  Metropolitan Police   \n",
              "1                176237.0  -0.139253  51.470327  Metropolitan Police   \n",
              "2                182761.0  -0.178719  51.529614  Metropolitan Police   \n",
              "3                184371.0  -0.001683  51.541210  Metropolitan Police   \n",
              "4                181286.0  -0.137592  51.515704  Metropolitan Police   \n",
              "\n",
              "  accident_severity  number_of_vehicles  ...  \\\n",
              "0            Slight                   1  ...   \n",
              "1            Slight                   1  ...   \n",
              "2            Slight                   1  ...   \n",
              "3           Serious                   1  ...   \n",
              "4            Slight                   1  ...   \n",
              "\n",
              "             pedestrian_crossing_physical_facilities       light_conditions  \\\n",
              "0                            unknown (self reported)               Daylight   \n",
              "1  Pelican, puffin, toucan or similar non-junctio...               Daylight   \n",
              "2   No physical crossing facilities within 50 metres  Darkness - lights lit   \n",
              "3  Pelican, puffin, toucan or similar non-junctio...  Darkness - lights lit   \n",
              "4   No physical crossing facilities within 50 metres  Darkness - lights lit   \n",
              "\n",
              "   weather_conditions  road_surface_conditions special_conditions_at_site  \\\n",
              "0                 NaN  unknown (self reported)                       None   \n",
              "1  Fine no high winds                      Dry                       None   \n",
              "2  Fine no high winds              Wet or damp                       None   \n",
              "3  Fine no high winds                      Dry                       None   \n",
              "4  Fine no high winds                      Dry                       None   \n",
              "\n",
              "  carriageway_hazards urban_or_rural_area  \\\n",
              "0                None               Urban   \n",
              "1                None               Urban   \n",
              "2                None               Urban   \n",
              "3                None               Urban   \n",
              "4                None               Urban   \n",
              "\n",
              "         did_police_officer_attend_scene_of_accident trunk_road_flag  \\\n",
              "0  No - accident was reported using a self comple...       Non-trunk   \n",
              "1                                                Yes       Non-trunk   \n",
              "2                                                Yes       Non-trunk   \n",
              "3                                                Yes       Non-trunk   \n",
              "4                                                Yes       Non-trunk   \n",
              "\n",
              "  lsoa_of_accident_location  \n",
              "0                 E01004576  \n",
              "1                 E01003034  \n",
              "2                 E01004726  \n",
              "3                 E01003617  \n",
              "4                 E01004763  \n",
              "\n",
              "[5 rows x 36 columns]"
            ],
            "text/html": [
              "\n",
              "  <div id=\"df-2a65eaa4-9c33-43eb-9346-0e37ef4adcd7\">\n",
              "    <div class=\"colab-df-container\">\n",
              "      <div>\n",
              "<style scoped>\n",
              "    .dataframe tbody tr th:only-of-type {\n",
              "        vertical-align: middle;\n",
              "    }\n",
              "\n",
              "    .dataframe tbody tr th {\n",
              "        vertical-align: top;\n",
              "    }\n",
              "\n",
              "    .dataframe thead th {\n",
              "        text-align: right;\n",
              "    }\n",
              "</style>\n",
              "<table border=\"1\" class=\"dataframe\">\n",
              "  <thead>\n",
              "    <tr style=\"text-align: right;\">\n",
              "      <th></th>\n",
              "      <th>accident_index</th>\n",
              "      <th>accident_year</th>\n",
              "      <th>accident_reference</th>\n",
              "      <th>location_easting_osgr</th>\n",
              "      <th>location_northing_osgr</th>\n",
              "      <th>longitude</th>\n",
              "      <th>latitude</th>\n",
              "      <th>police_force</th>\n",
              "      <th>accident_severity</th>\n",
              "      <th>number_of_vehicles</th>\n",
              "      <th>...</th>\n",
              "      <th>pedestrian_crossing_physical_facilities</th>\n",
              "      <th>light_conditions</th>\n",
              "      <th>weather_conditions</th>\n",
              "      <th>road_surface_conditions</th>\n",
              "      <th>special_conditions_at_site</th>\n",
              "      <th>carriageway_hazards</th>\n",
              "      <th>urban_or_rural_area</th>\n",
              "      <th>did_police_officer_attend_scene_of_accident</th>\n",
              "      <th>trunk_road_flag</th>\n",
              "      <th>lsoa_of_accident_location</th>\n",
              "    </tr>\n",
              "  </thead>\n",
              "  <tbody>\n",
              "    <tr>\n",
              "      <th>0</th>\n",
              "      <td>2020010219808</td>\n",
              "      <td>2020</td>\n",
              "      <td>010219808</td>\n",
              "      <td>521389.0</td>\n",
              "      <td>175144.0</td>\n",
              "      <td>-0.254001</td>\n",
              "      <td>51.462262</td>\n",
              "      <td>Metropolitan Police</td>\n",
              "      <td>Slight</td>\n",
              "      <td>1</td>\n",
              "      <td>...</td>\n",
              "      <td>unknown (self reported)</td>\n",
              "      <td>Daylight</td>\n",
              "      <td>NaN</td>\n",
              "      <td>unknown (self reported)</td>\n",
              "      <td>None</td>\n",
              "      <td>None</td>\n",
              "      <td>Urban</td>\n",
              "      <td>No - accident was reported using a self comple...</td>\n",
              "      <td>Non-trunk</td>\n",
              "      <td>E01004576</td>\n",
              "    </tr>\n",
              "    <tr>\n",
              "      <th>1</th>\n",
              "      <td>2020010220496</td>\n",
              "      <td>2020</td>\n",
              "      <td>010220496</td>\n",
              "      <td>529337.0</td>\n",
              "      <td>176237.0</td>\n",
              "      <td>-0.139253</td>\n",
              "      <td>51.470327</td>\n",
              "      <td>Metropolitan Police</td>\n",
              "      <td>Slight</td>\n",
              "      <td>1</td>\n",
              "      <td>...</td>\n",
              "      <td>Pelican, puffin, toucan or similar non-junctio...</td>\n",
              "      <td>Daylight</td>\n",
              "      <td>Fine no high winds</td>\n",
              "      <td>Dry</td>\n",
              "      <td>None</td>\n",
              "      <td>None</td>\n",
              "      <td>Urban</td>\n",
              "      <td>Yes</td>\n",
              "      <td>Non-trunk</td>\n",
              "      <td>E01003034</td>\n",
              "    </tr>\n",
              "    <tr>\n",
              "      <th>2</th>\n",
              "      <td>2020010228005</td>\n",
              "      <td>2020</td>\n",
              "      <td>010228005</td>\n",
              "      <td>526432.0</td>\n",
              "      <td>182761.0</td>\n",
              "      <td>-0.178719</td>\n",
              "      <td>51.529614</td>\n",
              "      <td>Metropolitan Police</td>\n",
              "      <td>Slight</td>\n",
              "      <td>1</td>\n",
              "      <td>...</td>\n",
              "      <td>No physical crossing facilities within 50 metres</td>\n",
              "      <td>Darkness - lights lit</td>\n",
              "      <td>Fine no high winds</td>\n",
              "      <td>Wet or damp</td>\n",
              "      <td>None</td>\n",
              "      <td>None</td>\n",
              "      <td>Urban</td>\n",
              "      <td>Yes</td>\n",
              "      <td>Non-trunk</td>\n",
              "      <td>E01004726</td>\n",
              "    </tr>\n",
              "    <tr>\n",
              "      <th>3</th>\n",
              "      <td>2020010228006</td>\n",
              "      <td>2020</td>\n",
              "      <td>010228006</td>\n",
              "      <td>538676.0</td>\n",
              "      <td>184371.0</td>\n",
              "      <td>-0.001683</td>\n",
              "      <td>51.541210</td>\n",
              "      <td>Metropolitan Police</td>\n",
              "      <td>Serious</td>\n",
              "      <td>1</td>\n",
              "      <td>...</td>\n",
              "      <td>Pelican, puffin, toucan or similar non-junctio...</td>\n",
              "      <td>Darkness - lights lit</td>\n",
              "      <td>Fine no high winds</td>\n",
              "      <td>Dry</td>\n",
              "      <td>None</td>\n",
              "      <td>None</td>\n",
              "      <td>Urban</td>\n",
              "      <td>Yes</td>\n",
              "      <td>Non-trunk</td>\n",
              "      <td>E01003617</td>\n",
              "    </tr>\n",
              "    <tr>\n",
              "      <th>4</th>\n",
              "      <td>2020010228011</td>\n",
              "      <td>2020</td>\n",
              "      <td>010228011</td>\n",
              "      <td>529324.0</td>\n",
              "      <td>181286.0</td>\n",
              "      <td>-0.137592</td>\n",
              "      <td>51.515704</td>\n",
              "      <td>Metropolitan Police</td>\n",
              "      <td>Slight</td>\n",
              "      <td>1</td>\n",
              "      <td>...</td>\n",
              "      <td>No physical crossing facilities within 50 metres</td>\n",
              "      <td>Darkness - lights lit</td>\n",
              "      <td>Fine no high winds</td>\n",
              "      <td>Dry</td>\n",
              "      <td>None</td>\n",
              "      <td>None</td>\n",
              "      <td>Urban</td>\n",
              "      <td>Yes</td>\n",
              "      <td>Non-trunk</td>\n",
              "      <td>E01004763</td>\n",
              "    </tr>\n",
              "  </tbody>\n",
              "</table>\n",
              "<p>5 rows × 36 columns</p>\n",
              "</div>\n",
              "      <button class=\"colab-df-convert\" onclick=\"convertToInteractive('df-2a65eaa4-9c33-43eb-9346-0e37ef4adcd7')\"\n",
              "              title=\"Convert this dataframe to an interactive table.\"\n",
              "              style=\"display:none;\">\n",
              "        \n",
              "  <svg xmlns=\"http://www.w3.org/2000/svg\" height=\"24px\"viewBox=\"0 0 24 24\"\n",
              "       width=\"24px\">\n",
              "    <path d=\"M0 0h24v24H0V0z\" fill=\"none\"/>\n",
              "    <path d=\"M18.56 5.44l.94 2.06.94-2.06 2.06-.94-2.06-.94-.94-2.06-.94 2.06-2.06.94zm-11 1L8.5 8.5l.94-2.06 2.06-.94-2.06-.94L8.5 2.5l-.94 2.06-2.06.94zm10 10l.94 2.06.94-2.06 2.06-.94-2.06-.94-.94-2.06-.94 2.06-2.06.94z\"/><path d=\"M17.41 7.96l-1.37-1.37c-.4-.4-.92-.59-1.43-.59-.52 0-1.04.2-1.43.59L10.3 9.45l-7.72 7.72c-.78.78-.78 2.05 0 2.83L4 21.41c.39.39.9.59 1.41.59.51 0 1.02-.2 1.41-.59l7.78-7.78 2.81-2.81c.8-.78.8-2.07 0-2.86zM5.41 20L4 18.59l7.72-7.72 1.47 1.35L5.41 20z\"/>\n",
              "  </svg>\n",
              "      </button>\n",
              "      \n",
              "  <style>\n",
              "    .colab-df-container {\n",
              "      display:flex;\n",
              "      flex-wrap:wrap;\n",
              "      gap: 12px;\n",
              "    }\n",
              "\n",
              "    .colab-df-convert {\n",
              "      background-color: #E8F0FE;\n",
              "      border: none;\n",
              "      border-radius: 50%;\n",
              "      cursor: pointer;\n",
              "      display: none;\n",
              "      fill: #1967D2;\n",
              "      height: 32px;\n",
              "      padding: 0 0 0 0;\n",
              "      width: 32px;\n",
              "    }\n",
              "\n",
              "    .colab-df-convert:hover {\n",
              "      background-color: #E2EBFA;\n",
              "      box-shadow: 0px 1px 2px rgba(60, 64, 67, 0.3), 0px 1px 3px 1px rgba(60, 64, 67, 0.15);\n",
              "      fill: #174EA6;\n",
              "    }\n",
              "\n",
              "    [theme=dark] .colab-df-convert {\n",
              "      background-color: #3B4455;\n",
              "      fill: #D2E3FC;\n",
              "    }\n",
              "\n",
              "    [theme=dark] .colab-df-convert:hover {\n",
              "      background-color: #434B5C;\n",
              "      box-shadow: 0px 1px 3px 1px rgba(0, 0, 0, 0.15);\n",
              "      filter: drop-shadow(0px 1px 2px rgba(0, 0, 0, 0.3));\n",
              "      fill: #FFFFFF;\n",
              "    }\n",
              "  </style>\n",
              "\n",
              "      <script>\n",
              "        const buttonEl =\n",
              "          document.querySelector('#df-2a65eaa4-9c33-43eb-9346-0e37ef4adcd7 button.colab-df-convert');\n",
              "        buttonEl.style.display =\n",
              "          google.colab.kernel.accessAllowed ? 'block' : 'none';\n",
              "\n",
              "        async function convertToInteractive(key) {\n",
              "          const element = document.querySelector('#df-2a65eaa4-9c33-43eb-9346-0e37ef4adcd7');\n",
              "          const dataTable =\n",
              "            await google.colab.kernel.invokeFunction('convertToInteractive',\n",
              "                                                     [key], {});\n",
              "          if (!dataTable) return;\n",
              "\n",
              "          const docLinkHtml = 'Like what you see? Visit the ' +\n",
              "            '<a target=\"_blank\" href=https://colab.research.google.com/notebooks/data_table.ipynb>data table notebook</a>'\n",
              "            + ' to learn more about interactive tables.';\n",
              "          element.innerHTML = '';\n",
              "          dataTable['output_type'] = 'display_data';\n",
              "          await google.colab.output.renderOutput(dataTable, element);\n",
              "          const docLink = document.createElement('div');\n",
              "          docLink.innerHTML = docLinkHtml;\n",
              "          element.appendChild(docLink);\n",
              "        }\n",
              "      </script>\n",
              "    </div>\n",
              "  </div>\n",
              "  "
            ]
          },
          "metadata": {},
          "execution_count": 8
        }
      ],
      "source": [
        "df.head()"
      ]
    },
    {
      "cell_type": "markdown",
      "metadata": {
        "id": "2E6TnmHMP2Ju"
      },
      "source": [
        "# 2- EDA"
      ]
    },
    {
      "cell_type": "markdown",
      "metadata": {
        "id": "xJDssRgEP2Jv"
      },
      "source": [
        "### Question 1: What are the most frequent locations (clusters) that have accidents? We will use the latitude and longitude data found in the dataset provided.  \n"
      ]
    },
    {
      "cell_type": "code",
      "execution_count": 9,
      "metadata": {
        "colab": {
          "base_uri": "https://localhost:8080/",
          "height": 503
        },
        "id": "k3y-hKekP2Jw",
        "outputId": "4f6d5d26-e972-4b76-803f-a51a62d54389"
      },
      "outputs": [
        {
          "output_type": "display_data",
          "data": {
            "text/plain": [
              "<Figure size 842.4x595.44 with 1 Axes>"
            ],
            "image/png": "[encoded data removed]"
          },
          "metadata": {}
        }
      ],
      "source": [
        "plt.plot(df['longitude'], df['latitude'], 'o', );"
      ]
    },
    {
      "cell_type": "markdown",
      "metadata": {
        "id": "iVJeY9BJP2Jx"
      },
      "source": [
        "We can see that there are many points in the data, so we will need to plot every 150th point to deteremine any pattern in the data."
      ]
    },
    {
      "cell_type": "code",
      "execution_count": 10,
      "metadata": {
        "colab": {
          "base_uri": "https://localhost:8080/",
          "height": 503
        },
        "id": "nS23YltiP2Jy",
        "outputId": "a70e18f0-5c0f-4af0-b05f-a496659aa6d2"
      },
      "outputs": [
        {
          "output_type": "display_data",
          "data": {
            "text/plain": [
              "<Figure size 842.4x595.44 with 1 Axes>"
            ],
            "image/png": "[encoded data removed]"
          },
          "metadata": {}
        }
      ],
      "source": [
        "plt.plot(df['longitude'], df['latitude'], 'o', ms=6, markevery=150);"
      ]
    },
    {
      "cell_type": "markdown",
      "metadata": {
        "id": "TDIo5U6KP2Jz"
      },
      "source": [
        "We can now see the resemblance between the figure and the map of the UK. It is clear from the clusters in the figure that areas with higher population count like London in the lower right corner, Manchester in the middle towards the left, and Liverpool above Manchester on the left have higher number of accidents."
      ]
    },
    {
      "cell_type": "markdown",
      "metadata": {
        "id": "Emto7NBMP2Jz"
      },
      "source": [
        "### Question 2: Does the day of the week affect the number of accidents? Moreover, does the time of the day have an effect on the number of accidents? "
      ]
    },
    {
      "cell_type": "code",
      "execution_count": 11,
      "metadata": {
        "colab": {
          "base_uri": "https://localhost:8080/",
          "height": 559
        },
        "id": "z0xYSSnpP2Jz",
        "outputId": "d0d29235-a66d-460b-c877-3b73b75f5c7c"
      },
      "outputs": [
        {
          "output_type": "display_data",
          "data": {
            "text/plain": [
              "<Figure size 842.4x595.44 with 1 Axes>"
            ],
            "image/png": "[encoded data removed]"
          },
          "metadata": {}
        }
      ],
      "source": [
        "sb.histplot(df['day_of_week'], shrink=.8)\n",
        "plt.xticks(rotation=45);\n",
        "# plt.hist(df['day_of_week'])"
      ]
    },
    {
      "cell_type": "markdown",
      "metadata": {
        "id": "D6N8bEdsP2J0"
      },
      "source": [
        "It is clear from the histogram that the number of the accidents is at a peak on fridays and drops significantly on the weekends and especially on Sundays. Next, we will analyze the time of the day's effect on the number of accidents."
      ]
    },
    {
      "cell_type": "code",
      "execution_count": 12,
      "metadata": {
        "colab": {
          "base_uri": "https://localhost:8080/"
        },
        "id": "CvRxByy-P2J0",
        "outputId": "3dac905a-f98e-47da-fc7a-5430b3da7b16"
      },
      "outputs": [
        {
          "output_type": "execute_result",
          "data": {
            "text/plain": [
              "0    09:00\n",
              "1    13:55\n",
              "2    01:25\n",
              "3    01:50\n",
              "4    02:25\n",
              "Name: time, dtype: object"
            ]
          },
          "metadata": {},
          "execution_count": 12
        }
      ],
      "source": [
        "df['time'].head()"
      ]
    },
    {
      "cell_type": "code",
      "execution_count": 13,
      "metadata": {
        "id": "utfCJP_oP2J1"
      },
      "outputs": [],
      "source": [
        "def get_hour (x:str) :\n",
        "    return (x.split(':')[0])\n",
        "\n",
        "df['time_hour']= df['time'].apply(get_hour)"
      ]
    },
    {
      "cell_type": "code",
      "execution_count": 14,
      "metadata": {
        "colab": {
          "base_uri": "https://localhost:8080/",
          "height": 507
        },
        "id": "F22Pg9R2P2J2",
        "outputId": "f35e6deb-a518-46ea-ec8f-c4b7d206acdc"
      },
      "outputs": [
        {
          "output_type": "display_data",
          "data": {
            "text/plain": [
              "<Figure size 842.4x595.44 with 1 Axes>"
            ],
            "image/png": "[encoded data removed]"
          },
          "metadata": {}
        }
      ],
      "source": [
        "sb.histplot(np.sort(df['time_hour']), shrink=.8,  bins=24)\n",
        "plt.xticks(rotation=45);"
      ]
    },
    {
      "cell_type": "markdown",
      "metadata": {
        "id": "acPbyQZ5P2J2"
      },
      "source": [
        "From the histogram, it is clear that the most number of accidents happen at 17:00 and 18:00, which can be explained with the rush hour. Morever, the least number of accidents occur from 22:00 till 6:00, we can deduce that this is because people are usually asleep during those times and thus less people are driving resulting in less accidents."
      ]
    },
    {
      "cell_type": "markdown",
      "metadata": {
        "id": "fb8E_gHWP2J3"
      },
      "source": [
        "## We will now delve in the multivariate exploration of the data\n",
        "### Question 3: We will now explore the relationship between the road type and the severity and the number of causalties in that accident "
      ]
    },
    {
      "cell_type": "code",
      "execution_count": 15,
      "metadata": {
        "colab": {
          "base_uri": "https://localhost:8080/"
        },
        "id": "6GRJfBfEP2J3",
        "outputId": "8c9e7ae8-1a42-4440-9a1a-539b1f7ad3e2"
      },
      "outputs": [
        {
          "output_type": "execute_result",
          "data": {
            "text/plain": [
              "array(['Single carriageway', 'One way street', 'Dual carriageway',\n",
              "       'Slip road', 'Roundabout', nan], dtype=object)"
            ]
          },
          "metadata": {},
          "execution_count": 15
        }
      ],
      "source": [
        "df['road_type'].unique()"
      ]
    },
    {
      "cell_type": "code",
      "execution_count": 16,
      "metadata": {
        "colab": {
          "base_uri": "https://localhost:8080/"
        },
        "id": "HUbX30RUP2J4",
        "outputId": "6f102eba-93a2-484e-9430-bc3b5bd46622"
      },
      "outputs": [
        {
          "output_type": "execute_result",
          "data": {
            "text/plain": [
              "array(['Slight', 'Serious', 'Fatal'], dtype=object)"
            ]
          },
          "metadata": {},
          "execution_count": 16
        }
      ],
      "source": [
        "df['accident_severity'].unique()"
      ]
    },
    {
      "cell_type": "code",
      "execution_count": 17,
      "metadata": {
        "colab": {
          "base_uri": "https://localhost:8080/"
        },
        "id": "KCjv_xNQP2J4",
        "outputId": "a7b963ae-24cb-448c-f030-4874ac31c579"
      },
      "outputs": [
        {
          "output_type": "execute_result",
          "data": {
            "text/plain": [
              "62033"
            ]
          },
          "metadata": {},
          "execution_count": 17
        }
      ],
      "source": [
        "df['number_of_casualties'].count()"
      ]
    },
    {
      "cell_type": "code",
      "execution_count": 18,
      "metadata": {
        "colab": {
          "base_uri": "https://localhost:8080/",
          "height": 0
        },
        "id": "Jzw9iH5uP2J5",
        "outputId": "2481be31-a829-45cc-fe1b-6cea2f6fdbdc"
      },
      "outputs": [
        {
          "output_type": "display_data",
          "data": {
            "text/plain": [
              "<Figure size 474.55x360 with 1 Axes>"
            ],
            "image/png": "[encoded data removed]"
          },
          "metadata": {}
        }
      ],
      "source": [
        "df1 = df.groupby(\"road_type\")[\"accident_severity\"].value_counts(normalize=True)\n",
        "df1 = df1.mul(100)\n",
        "df1 = df1.rename('percent').reset_index()\n",
        "sb.catplot(data=df1, x=\"road_type\", y=\"percent\", hue=\"accident_severity\", kind=\"bar\")\n",
        "plt.xticks(rotation=45);\n"
      ]
    },
    {
      "cell_type": "markdown",
      "metadata": {
        "id": "XrLn2bZHP2J5"
      },
      "source": [
        "We can see that that the singel carriageway has more serious and fatal accidents compared to other road types."
      ]
    },
    {
      "cell_type": "code",
      "execution_count": 19,
      "metadata": {
        "colab": {
          "base_uri": "https://localhost:8080/",
          "height": 0
        },
        "id": "N8IWYsanP2J5",
        "outputId": "c0f207ca-6a83-4372-f793-408e1268cdb7"
      },
      "outputs": [
        {
          "output_type": "display_data",
          "data": {
            "text/plain": [
              "<Figure size 360x360 with 1 Axes>"
            ],
            "image/png": "[encoded data removed]"
          },
          "metadata": {}
        }
      ],
      "source": [
        "sb.catplot(data=df, x=\"road_type\", y=\"number_of_casualties\")\n",
        "plt.xticks(rotation=45);\n"
      ]
    },
    {
      "cell_type": "code",
      "execution_count": 20,
      "metadata": {
        "colab": {
          "base_uri": "https://localhost:8080/",
          "height": 0
        },
        "id": "8HeYLftKP2J6",
        "outputId": "9adac210-1d9c-48e2-c276-11b16a1b3011"
      },
      "outputs": [
        {
          "output_type": "display_data",
          "data": {
            "text/plain": [
              "<Figure size 842.4x595.44 with 1 Axes>"
            ],
            "image/png": "[encoded data removed]"
          },
          "metadata": {}
        }
      ],
      "source": [
        "sb.histplot(np.sort(df['speed_limit']), shrink=.8,)\n",
        "plt.xticks(rotation=45);"
      ]
    },
    {
      "cell_type": "code",
      "execution_count": 21,
      "metadata": {
        "colab": {
          "base_uri": "https://localhost:8080/"
        },
        "id": "e0GzffI_P2J6",
        "outputId": "44d59628-6f83-4d5a-f078-c205c6e5fe9c"
      },
      "outputs": [
        {
          "output_type": "execute_result",
          "data": {
            "text/plain": [
              "30.0                            37002\n",
              "20.0                             9379\n",
              "60.0                             5989\n",
              "40.0                             4775\n",
              "70.0                             2601\n",
              "50.0                             2276\n",
              "Data missing or out of range       11\n",
              "Name: speed_limit, dtype: int64"
            ]
          },
          "metadata": {},
          "execution_count": 21
        }
      ],
      "source": [
        "df['speed_limit'].value_counts()"
      ]
    },
    {
      "cell_type": "code",
      "execution_count": 22,
      "metadata": {
        "colab": {
          "base_uri": "https://localhost:8080/",
          "height": 0
        },
        "id": "VjOY6zIVP2J7",
        "outputId": "cb100ba0-c816-400b-95a3-5f3e1ec666df"
      },
      "outputs": [
        {
          "output_type": "display_data",
          "data": {
            "text/plain": [
              "<Figure size 474.55x360 with 1 Axes>"
            ],
            "image/png": "[encoded data removed]"
          },
          "metadata": {}
        }
      ],
      "source": [
        "df1 = df.groupby(\"speed_limit\")[\"accident_severity\"].value_counts(normalize=True)\n",
        "df1 = df1.mul(100)\n",
        "df1 = df1.rename('percent').reset_index()\n",
        "sb.catplot(data=df1, x=\"speed_limit\", y=\"percent\", hue=\"accident_severity\", kind=\"bar\")\n",
        "plt.xticks(rotation=45);"
      ]
    },
    {
      "cell_type": "markdown",
      "metadata": {
        "id": "2N_gTnloP2J7"
      },
      "source": [
        "Finished EDA"
      ]
    },
    {
      "cell_type": "code",
      "execution_count": 22,
      "metadata": {
        "id": "togRIT6LP2J7"
      },
      "outputs": [],
      "source": []
    },
    {
      "cell_type": "markdown",
      "metadata": {
        "id": "qbNDH3u2P2J7"
      },
      "source": [
        "# 3 - Cleaning Data"
      ]
    },
    {
      "cell_type": "markdown",
      "metadata": {
        "id": "64mSNPX_P2J7"
      },
      "source": [
        "## Observing Missing and duplicate Data"
      ]
    },
    {
      "cell_type": "code",
      "execution_count": 22,
      "metadata": {
        "id": "Ar92XRAyP2J8"
      },
      "outputs": [],
      "source": []
    },
    {
      "cell_type": "code",
      "execution_count": 22,
      "metadata": {
        "id": "Nxez6B75P2J8"
      },
      "outputs": [],
      "source": []
    },
    {
      "cell_type": "code",
      "execution_count": 22,
      "metadata": {
        "id": "pwGKrBJOP2J8"
      },
      "outputs": [],
      "source": []
    },
    {
      "cell_type": "markdown",
      "metadata": {
        "id": "s8ZQQ9UeP2J8"
      },
      "source": [
        "## Handling Missing data"
      ]
    },
    {
      "cell_type": "code",
      "execution_count": 22,
      "metadata": {
        "id": "R6jntwzHP2J9"
      },
      "outputs": [],
      "source": []
    },
    {
      "cell_type": "code",
      "execution_count": 22,
      "metadata": {
        "id": "Qq5xOG8HP2J9"
      },
      "outputs": [],
      "source": []
    },
    {
      "cell_type": "code",
      "execution_count": 22,
      "metadata": {
        "id": "4h2FRuroP2J9"
      },
      "outputs": [],
      "source": []
    },
    {
      "cell_type": "markdown",
      "metadata": {
        "id": "8YaAhFHLP2J9"
      },
      "source": [
        "## Findings and conclusions"
      ]
    },
    {
      "cell_type": "code",
      "execution_count": 22,
      "metadata": {
        "id": "miV9DASZP2J9"
      },
      "outputs": [],
      "source": []
    },
    {
      "cell_type": "code",
      "execution_count": 22,
      "metadata": {
        "id": "JkuHmtoZP2J-"
      },
      "outputs": [],
      "source": []
    },
    {
      "cell_type": "markdown",
      "metadata": {
        "id": "NZJMkA9WP2J-"
      },
      "source": [
        "## Observing outliers"
      ]
    },
    {
      "cell_type": "code",
      "execution_count": 22,
      "metadata": {
        "id": "dNVAozVTP2J-"
      },
      "outputs": [],
      "source": []
    },
    {
      "cell_type": "code",
      "execution_count": 22,
      "metadata": {
        "id": "Y7nr38lVP2J-"
      },
      "outputs": [],
      "source": []
    },
    {
      "cell_type": "code",
      "execution_count": 22,
      "metadata": {
        "id": "cu5bZ45UP2J-"
      },
      "outputs": [],
      "source": []
    },
    {
      "cell_type": "markdown",
      "metadata": {
        "id": "RndqPN1YP2J-"
      },
      "source": [
        "## Handling outliers"
      ]
    },
    {
      "cell_type": "code",
      "execution_count": 22,
      "metadata": {
        "id": "5z-7n-V8P2J_"
      },
      "outputs": [],
      "source": []
    },
    {
      "cell_type": "code",
      "execution_count": 22,
      "metadata": {
        "id": "rUbQe2jTP2J_"
      },
      "outputs": [],
      "source": []
    },
    {
      "cell_type": "code",
      "execution_count": 22,
      "metadata": {
        "id": "s_Nz9D_iP2J_"
      },
      "outputs": [],
      "source": []
    },
    {
      "cell_type": "markdown",
      "metadata": {
        "id": "klyQon1AP2J_"
      },
      "source": [
        "## Findings and conclusions"
      ]
    },
    {
      "cell_type": "code",
      "execution_count": 22,
      "metadata": {
        "id": "cKdIIDR4P2J_"
      },
      "outputs": [],
      "source": []
    },
    {
      "cell_type": "code",
      "execution_count": 22,
      "metadata": {
        "id": "feEC6tqWP2KA"
      },
      "outputs": [],
      "source": []
    },
    {
      "cell_type": "code",
      "execution_count": 22,
      "metadata": {
        "id": "mVY4Zy2KP2KA"
      },
      "outputs": [],
      "source": []
    },
    {
      "cell_type": "markdown",
      "metadata": {
        "id": "Bm-TUQxNP2KA"
      },
      "source": [
        "# 4 - Data transformation"
      ]
    },
    {
      "cell_type": "markdown",
      "metadata": {
        "id": "618jvfpwP2KB"
      },
      "source": [
        "## 4.1 - Discretization"
      ]
    },
    {
      "cell_type": "code",
      "execution_count": 22,
      "metadata": {
        "id": "72_XUqXfP2KB"
      },
      "outputs": [],
      "source": []
    },
    {
      "cell_type": "code",
      "execution_count": 22,
      "metadata": {
        "id": "qnim2g0ZP2KB"
      },
      "outputs": [],
      "source": []
    },
    {
      "cell_type": "code",
      "execution_count": 22,
      "metadata": {
        "id": "_TRCq-_jP2KB"
      },
      "outputs": [],
      "source": []
    },
    {
      "cell_type": "markdown",
      "metadata": {
        "id": "Q6BC0YNpP2KC"
      },
      "source": [
        "## 4.11 - Findings and conclusions"
      ]
    },
    {
      "cell_type": "code",
      "execution_count": 22,
      "metadata": {
        "id": "4lOt3W-_P2KC"
      },
      "outputs": [],
      "source": []
    },
    {
      "cell_type": "code",
      "execution_count": 22,
      "metadata": {
        "id": "UG6RZWHxP2KC"
      },
      "outputs": [],
      "source": []
    },
    {
      "cell_type": "code",
      "execution_count": 22,
      "metadata": {
        "id": "bhzbExfPP2KC"
      },
      "outputs": [],
      "source": []
    },
    {
      "cell_type": "markdown",
      "metadata": {
        "id": "PtqRfZsEP2KC"
      },
      "source": [
        "## 4.2 - Encoding"
      ]
    },
    {
      "cell_type": "code",
      "execution_count": 22,
      "metadata": {
        "id": "thTSj1wiP2KD"
      },
      "outputs": [],
      "source": []
    },
    {
      "cell_type": "code",
      "execution_count": 22,
      "metadata": {
        "id": "ZOpOz_GLP2KD"
      },
      "outputs": [],
      "source": []
    },
    {
      "cell_type": "code",
      "execution_count": 22,
      "metadata": {
        "id": "1AjoGMcBP2KD"
      },
      "outputs": [],
      "source": []
    },
    {
      "cell_type": "markdown",
      "metadata": {
        "id": "MulMtSiiP2KE"
      },
      "source": [
        "## 4.22 - Findings and conlcusions"
      ]
    },
    {
      "cell_type": "code",
      "execution_count": 22,
      "metadata": {
        "id": "k0WUJv32P2KE"
      },
      "outputs": [],
      "source": []
    },
    {
      "cell_type": "code",
      "execution_count": 22,
      "metadata": {
        "id": "LKwBK_mhP2KE"
      },
      "outputs": [],
      "source": []
    },
    {
      "cell_type": "code",
      "execution_count": 22,
      "metadata": {
        "id": "Zvi4v_X3P2KE"
      },
      "outputs": [],
      "source": []
    },
    {
      "cell_type": "markdown",
      "metadata": {
        "id": "yKrvlHkdP2KF"
      },
      "source": [
        "## 4.3 - Normalisation "
      ]
    },
    {
      "cell_type": "code",
      "execution_count": 22,
      "metadata": {
        "id": "Q5FjDbMcP2KF"
      },
      "outputs": [],
      "source": []
    },
    {
      "cell_type": "code",
      "execution_count": 22,
      "metadata": {
        "id": "tVCtDWi4P2KF"
      },
      "outputs": [],
      "source": []
    },
    {
      "cell_type": "code",
      "execution_count": 22,
      "metadata": {
        "id": "ouwUXpGbP2KF"
      },
      "outputs": [],
      "source": []
    },
    {
      "cell_type": "markdown",
      "metadata": {
        "id": "Q2PNegCzP2KG"
      },
      "source": [
        "## 4.31 - Findings and conclusions"
      ]
    },
    {
      "cell_type": "code",
      "execution_count": 22,
      "metadata": {
        "id": "x-IoWzZHP2KG"
      },
      "outputs": [],
      "source": []
    },
    {
      "cell_type": "code",
      "execution_count": 22,
      "metadata": {
        "id": "H5w7hlpsP2KG"
      },
      "outputs": [],
      "source": []
    },
    {
      "cell_type": "code",
      "execution_count": 22,
      "metadata": {
        "id": "e5i1DpBiP2KG"
      },
      "outputs": [],
      "source": []
    },
    {
      "cell_type": "markdown",
      "metadata": {
        "id": "Z_LrnHc0P2KG"
      },
      "source": [
        "## 4.4 - Adding more columns"
      ]
    },
    {
      "cell_type": "code",
      "execution_count": 22,
      "metadata": {
        "id": "2HAF5-8NP2KH"
      },
      "outputs": [],
      "source": []
    },
    {
      "cell_type": "code",
      "execution_count": 22,
      "metadata": {
        "id": "9vyl2jaZP2KH"
      },
      "outputs": [],
      "source": []
    },
    {
      "cell_type": "code",
      "execution_count": 22,
      "metadata": {
        "id": "EsohEwXDP2KH"
      },
      "outputs": [],
      "source": []
    },
    {
      "cell_type": "markdown",
      "metadata": {
        "id": "Qppd6eW8P2KH"
      },
      "source": [
        "## 4.41 - Findings and concluisons"
      ]
    },
    {
      "cell_type": "code",
      "execution_count": 22,
      "metadata": {
        "id": "ungbp9VeP2KH"
      },
      "outputs": [],
      "source": []
    },
    {
      "cell_type": "code",
      "execution_count": 22,
      "metadata": {
        "id": "G5SuPx2eP2KI"
      },
      "outputs": [],
      "source": []
    },
    {
      "cell_type": "markdown",
      "metadata": {
        "id": "6Jf7nMsMP2KI"
      },
      "source": [
        "## 4.5 - Csv file for lookup"
      ]
    },
    {
      "cell_type": "code",
      "execution_count": 22,
      "metadata": {
        "id": "mPp2G7XVP2KI"
      },
      "outputs": [],
      "source": []
    },
    {
      "cell_type": "code",
      "execution_count": 22,
      "metadata": {
        "id": "4Riw6YWOP2KI"
      },
      "outputs": [],
      "source": []
    },
    {
      "cell_type": "code",
      "execution_count": 22,
      "metadata": {
        "id": "N8qsMn3GP2KI"
      },
      "outputs": [],
      "source": []
    },
    {
      "cell_type": "markdown",
      "metadata": {
        "id": "lwHNafE9P2KJ"
      },
      "source": [
        "## 5- Exporting the dataframe to a csv file or parquet"
      ]
    },
    {
      "cell_type": "code",
      "execution_count": 22,
      "metadata": {
        "id": "JDE_10HPP2KJ"
      },
      "outputs": [],
      "source": []
    },
    {
      "cell_type": "code",
      "execution_count": 22,
      "metadata": {
        "id": "lWjh7c00P2KJ"
      },
      "outputs": [],
      "source": []
    }
  ],
  "metadata": {
    "kernelspec": {
      "display_name": "Python 3.8.5 ('base')",
      "language": "python",
      "name": "python3"
    },
    "language_info": {
      "codemirror_mode": {
        "name": "ipython",
        "version": 3
      },
      "file_extension": ".py",
      "mimetype": "text/x-python",
      "name": "python",
      "nbconvert_exporter": "python",
      "pygments_lexer": "ipython3",
      "version": "3.8.5"
    },
    "vscode": {
      "interpreter": {
        "hash": "93cb1669ec1c1464abe0a32a9f7e7689e5367599bd2dccc7b473e732db403ba0"
      }
    },
    "colab": {
      "provenance": [],
      "collapsed_sections": [
        "fb8E_gHWP2J3",
        "64mSNPX_P2J7",
        "s8ZQQ9UeP2J8",
        "8YaAhFHLP2J9",
        "NZJMkA9WP2J-",
        "RndqPN1YP2J-",
        "klyQon1AP2J_",
        "618jvfpwP2KB",
        "Q6BC0YNpP2KC",
        "PtqRfZsEP2KC",
        "MulMtSiiP2KE",
        "yKrvlHkdP2KF",
        "Q2PNegCzP2KG",
        "Z_LrnHc0P2KG",
        "Qppd6eW8P2KH",
        "6Jf7nMsMP2KI",
        "lwHNafE9P2KJ"
      ]
    }
  },
  "nbformat": 4,
  "nbformat_minor": 0
}