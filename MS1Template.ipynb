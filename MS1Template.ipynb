{
  "cells": [
    {
      "cell_type": "markdown",
      "metadata": {
        "id": "ihlW1hEfNqlR"
      },
      "source": [
        "*Member 1*\n",
        "\n",
        "Name: Omar Aref \n",
        "\n",
        "ID: 46-5432\n",
        "\n",
        "*Member 2*\n",
        "\n",
        "Name: Hana Adel\n",
        "\n",
        "ID: 46-0377\n",
        "\n",
        "*Member 3*\n",
        "\n",
        "Name: Sarah Halla\n",
        "\n",
        "ID: 46-0431\n",
        "\n",
        "*Member 4*\n",
        "\n",
        "Name: Farida El Genedi  \n",
        "\n",
        "ID: 46-2291\n",
        "\n",
        "*Member 5*\n",
        "\n",
        "Name: Shawky Haitham  \n",
        "\n",
        "ID: 46-3502"
      ]
    },
    {
      "cell_type": "markdown",
      "metadata": {
        "id": "8iJYD4b3NqlZ"
      },
      "source": [
        "# Milestone 1 - EDA and Preprocessing data "
      ]
    },
    {
      "cell_type": "markdown",
      "metadata": {
        "id": "6pkZrAPKNqla"
      },
      "source": [
        "- Load dataset\n",
        "- Explore the dataset and ask atleast 5 questions to give you a better understanding of the data provided to you. \n",
        "- Visualise the answer to these 5 questions.\n",
        "- Cleaing the data\n",
        "- Observe missing data and comment on why you believe it is missing(MCAR,MAR or MNAR) \n",
        "- Observe duplicate data\n",
        "- Observe outliers\n",
        "- After observing outliers,missing data and duplicates, handle any unclean data.\n",
        "- With every change you are making to the data you need to comment on why you used this technique and how has it affected the data(by both showing the change in the data i.e change in number of rows/columns,change in distrubution, etc and commenting on it).\n",
        "- Data transformation and feature engineering\n",
        "- Add a new column named 'Week number' and discretisize the data into weeks according to the dates.Tip: Change the datatype of the date feature to datetime type instead of object.\n",
        "- Encode any categorical feature(s) and comment on why you used this technique and how the data has changed.\n",
        "- Identify feature(s) which need normalisation and show your reasoning.Then choose a technique to normalise the feature(s) and comment on why you chose this technique.\n",
        "- Add atleast two more columns which adds more info to the dataset by evaluating specific feature(s). I.E( Column indicating whether the accident was on a weekend or not). \n",
        "- For any imputation with arbitrary values or encoding done, you have to store what the value imputed or encoded represents in a new csv file. I.e if you impute a missing value with -1 or 100 you must have a csv file illustrating what -1 and 100 means. Or for instance, if you encode cities with 1,2,3,4,etc what each number represents must be shown in the new csv file.\n",
        "- Load the new dataset into a csv file.\n",
        "- **Extremely Important note** - Your code should be as generic as possible and not hard-coded and be able to work with various datasets. Any hard-coded solutions will be severely penalised.\n",
        "- Bonus: Load the dataset as a parquet file instead of a csv file(Parquet file is a compressed file format)."
      ]
    },
    {
      "cell_type": "code",
      "execution_count": 1,
      "metadata": {
        "colab": {
          "base_uri": "https://localhost:8080/"
        },
        "id": "NevZVCAhNqlc",
        "outputId": "3bc88161-600c-449b-835f-06155c0e74ee"
      },
      "outputs": [
        {
          "output_type": "stream",
          "name": "stdout",
          "text": [
            "Looking in indexes: https://pypi.org/simple, https://us-python.pkg.dev/colab-wheels/public/simple/\n",
            "Requirement already satisfied: seaborn in /usr/local/lib/python3.7/dist-packages (0.11.2)\n",
            "Requirement already satisfied: pandas>=0.23 in /usr/local/lib/python3.7/dist-packages (from seaborn) (1.3.5)\n",
            "Requirement already satisfied: matplotlib>=2.2 in /usr/local/lib/python3.7/dist-packages (from seaborn) (3.2.2)\n",
            "Requirement already satisfied: scipy>=1.0 in /usr/local/lib/python3.7/dist-packages (from seaborn) (1.7.3)\n",
            "Requirement already satisfied: numpy>=1.15 in /usr/local/lib/python3.7/dist-packages (from seaborn) (1.21.6)\n",
            "Requirement already satisfied: kiwisolver>=1.0.1 in /usr/local/lib/python3.7/dist-packages (from matplotlib>=2.2->seaborn) (1.4.4)\n",
            "Requirement already satisfied: pyparsing!=2.0.4,!=2.1.2,!=2.1.6,>=2.0.1 in /usr/local/lib/python3.7/dist-packages (from matplotlib>=2.2->seaborn) (3.0.9)\n",
            "Requirement already satisfied: python-dateutil>=2.1 in /usr/local/lib/python3.7/dist-packages (from matplotlib>=2.2->seaborn) (2.8.2)\n",
            "Requirement already satisfied: cycler>=0.10 in /usr/local/lib/python3.7/dist-packages (from matplotlib>=2.2->seaborn) (0.11.0)\n",
            "Requirement already satisfied: typing-extensions in /usr/local/lib/python3.7/dist-packages (from kiwisolver>=1.0.1->matplotlib>=2.2->seaborn) (4.1.1)\n",
            "Requirement already satisfied: pytz>=2017.3 in /usr/local/lib/python3.7/dist-packages (from pandas>=0.23->seaborn) (2022.6)\n",
            "Requirement already satisfied: six>=1.5 in /usr/local/lib/python3.7/dist-packages (from python-dateutil>=2.1->matplotlib>=2.2->seaborn) (1.15.0)\n"
          ]
        }
      ],
      "source": [
        "pip install seaborn\n"
      ]
    },
    {
      "cell_type": "code",
      "execution_count": 2,
      "metadata": {
        "id": "-U8QknmeNqlg"
      },
      "outputs": [],
      "source": [
        "import pandas as pd \n",
        "import numpy as np \n",
        "import matplotlib.pyplot as plt \n",
        "import seaborn as sb\n",
        "import math\n",
        "\n",
        "from IPython.display import display"
      ]
    },
    {
      "cell_type": "markdown",
      "metadata": {
        "id": "oSEeP7kENqlh"
      },
      "source": [
        "# 1 - Extraction"
      ]
    },
    {
      "cell_type": "code",
      "execution_count": 3,
      "metadata": {
        "id": "8FMjrq0uNqli"
      },
      "outputs": [],
      "source": [
        "df  = pd.read_csv(\"2020_Accidents_UK.csv\", low_memory=False);\n",
        "sb.set(rc={'figure.figsize':(11.7,8.27)})"
      ]
    },
    {
      "cell_type": "code",
      "execution_count": 4,
      "metadata": {
        "colab": {
          "base_uri": "https://localhost:8080/"
        },
        "id": "PzvOBaJdNqlj",
        "outputId": "8c76ecf1-3d60-451b-8526-6078f4144f22"
      },
      "outputs": [
        {
          "output_type": "stream",
          "name": "stdout",
          "text": [
            "<class 'pandas.core.frame.DataFrame'>\n",
            "RangeIndex: 91199 entries, 0 to 91198\n",
            "Data columns (total 36 columns):\n",
            " #   Column                                       Non-Null Count  Dtype  \n",
            "---  ------                                       --------------  -----  \n",
            " 0   accident_index                               91199 non-null  object \n",
            " 1   accident_year                                91199 non-null  int64  \n",
            " 2   accident_reference                           91199 non-null  object \n",
            " 3   location_easting_osgr                        91185 non-null  float64\n",
            " 4   location_northing_osgr                       91185 non-null  float64\n",
            " 5   longitude                                    91185 non-null  float64\n",
            " 6   latitude                                     91185 non-null  float64\n",
            " 7   police_force                                 91199 non-null  object \n",
            " 8   accident_severity                            91199 non-null  object \n",
            " 9   number_of_vehicles                           91199 non-null  int64  \n",
            " 10  number_of_casualties                         91199 non-null  int64  \n",
            " 11  date                                         91199 non-null  object \n",
            " 12  day_of_week                                  91199 non-null  object \n",
            " 13  time                                         91199 non-null  object \n",
            " 14  local_authority_district                     91199 non-null  object \n",
            " 15  local_authority_ons_district                 91199 non-null  object \n",
            " 16  local_authority_highway                      91199 non-null  object \n",
            " 17  first_road_class                             91199 non-null  object \n",
            " 18  first_road_number                            91199 non-null  object \n",
            " 19  road_type                                    89193 non-null  object \n",
            " 20  speed_limit                                  91199 non-null  object \n",
            " 21  junction_detail                              91199 non-null  object \n",
            " 22  junction_control                             91199 non-null  object \n",
            " 23  second_road_class                            91199 non-null  object \n",
            " 24  second_road_number                           53154 non-null  object \n",
            " 25  pedestrian_crossing_human_control            91199 non-null  object \n",
            " 26  pedestrian_crossing_physical_facilities      91199 non-null  object \n",
            " 27  light_conditions                             91199 non-null  object \n",
            " 28  weather_conditions                           88776 non-null  object \n",
            " 29  road_surface_conditions                      91199 non-null  object \n",
            " 30  special_conditions_at_site                   91199 non-null  object \n",
            " 31  carriageway_hazards                          91199 non-null  object \n",
            " 32  urban_or_rural_area                          91199 non-null  object \n",
            " 33  did_police_officer_attend_scene_of_accident  91199 non-null  object \n",
            " 34  trunk_road_flag                              91199 non-null  object \n",
            " 35  lsoa_of_accident_location                    91199 non-null  object \n",
            "dtypes: float64(4), int64(3), object(29)\n",
            "memory usage: 25.0+ MB\n"
          ]
        }
      ],
      "source": [
        "df.info()"
      ]
    },
    {
      "cell_type": "code",
      "execution_count": 5,
      "metadata": {
        "colab": {
          "base_uri": "https://localhost:8080/",
          "height": 386
        },
        "id": "kNQAkayyNqlk",
        "outputId": "f37d7204-2ad2-484d-e3d7-ded2d6ab000a"
      },
      "outputs": [
        {
          "output_type": "execute_result",
          "data": {
            "text/plain": [
              "  accident_index  accident_year accident_reference  location_easting_osgr  \\\n",
              "0  2020010219808           2020          010219808               521389.0   \n",
              "1  2020010220496           2020          010220496               529337.0   \n",
              "2  2020010228005           2020          010228005               526432.0   \n",
              "3  2020010228006           2020          010228006               538676.0   \n",
              "4  2020010228011           2020          010228011               529324.0   \n",
              "\n",
              "   location_northing_osgr  longitude   latitude         police_force  \\\n",
              "0                175144.0  -0.254001  51.462262  Metropolitan Police   \n",
              "1                176237.0  -0.139253  51.470327  Metropolitan Police   \n",
              "2                182761.0  -0.178719  51.529614  Metropolitan Police   \n",
              "3                184371.0  -0.001683  51.541210  Metropolitan Police   \n",
              "4                181286.0  -0.137592  51.515704  Metropolitan Police   \n",
              "\n",
              "  accident_severity  number_of_vehicles  ...  \\\n",
              "0            Slight                   1  ...   \n",
              "1            Slight                   1  ...   \n",
              "2            Slight                   1  ...   \n",
              "3           Serious                   1  ...   \n",
              "4            Slight                   1  ...   \n",
              "\n",
              "             pedestrian_crossing_physical_facilities       light_conditions  \\\n",
              "0                            unknown (self reported)               Daylight   \n",
              "1  Pelican, puffin, toucan or similar non-junctio...               Daylight   \n",
              "2   No physical crossing facilities within 50 metres  Darkness - lights lit   \n",
              "3  Pelican, puffin, toucan or similar non-junctio...  Darkness - lights lit   \n",
              "4   No physical crossing facilities within 50 metres  Darkness - lights lit   \n",
              "\n",
              "   weather_conditions  road_surface_conditions special_conditions_at_site  \\\n",
              "0                 NaN  unknown (self reported)                       None   \n",
              "1  Fine no high winds                      Dry                       None   \n",
              "2  Fine no high winds              Wet or damp                       None   \n",
              "3  Fine no high winds                      Dry                       None   \n",
              "4  Fine no high winds                      Dry                       None   \n",
              "\n",
              "  carriageway_hazards urban_or_rural_area  \\\n",
              "0                None               Urban   \n",
              "1                None               Urban   \n",
              "2                None               Urban   \n",
              "3                None               Urban   \n",
              "4                None               Urban   \n",
              "\n",
              "         did_police_officer_attend_scene_of_accident trunk_road_flag  \\\n",
              "0  No - accident was reported using a self comple...       Non-trunk   \n",
              "1                                                Yes       Non-trunk   \n",
              "2                                                Yes       Non-trunk   \n",
              "3                                                Yes       Non-trunk   \n",
              "4                                                Yes       Non-trunk   \n",
              "\n",
              "  lsoa_of_accident_location  \n",
              "0                 E01004576  \n",
              "1                 E01003034  \n",
              "2                 E01004726  \n",
              "3                 E01003617  \n",
              "4                 E01004763  \n",
              "\n",
              "[5 rows x 36 columns]"
            ],
            "text/html": [
              "\n",
              "  <div id=\"df-dcbc587f-42c8-4a50-ba58-3d194aa42ec8\">\n",
              "    <div class=\"colab-df-container\">\n",
              "      <div>\n",
              "<style scoped>\n",
              "    .dataframe tbody tr th:only-of-type {\n",
              "        vertical-align: middle;\n",
              "    }\n",
              "\n",
              "    .dataframe tbody tr th {\n",
              "        vertical-align: top;\n",
              "    }\n",
              "\n",
              "    .dataframe thead th {\n",
              "        text-align: right;\n",
              "    }\n",
              "</style>\n",
              "<table border=\"1\" class=\"dataframe\">\n",
              "  <thead>\n",
              "    <tr style=\"text-align: right;\">\n",
              "      <th></th>\n",
              "      <th>accident_index</th>\n",
              "      <th>accident_year</th>\n",
              "      <th>accident_reference</th>\n",
              "      <th>location_easting_osgr</th>\n",
              "      <th>location_northing_osgr</th>\n",
              "      <th>longitude</th>\n",
              "      <th>latitude</th>\n",
              "      <th>police_force</th>\n",
              "      <th>accident_severity</th>\n",
              "      <th>number_of_vehicles</th>\n",
              "      <th>...</th>\n",
              "      <th>pedestrian_crossing_physical_facilities</th>\n",
              "      <th>light_conditions</th>\n",
              "      <th>weather_conditions</th>\n",
              "      <th>road_surface_conditions</th>\n",
              "      <th>special_conditions_at_site</th>\n",
              "      <th>carriageway_hazards</th>\n",
              "      <th>urban_or_rural_area</th>\n",
              "      <th>did_police_officer_attend_scene_of_accident</th>\n",
              "      <th>trunk_road_flag</th>\n",
              "      <th>lsoa_of_accident_location</th>\n",
              "    </tr>\n",
              "  </thead>\n",
              "  <tbody>\n",
              "    <tr>\n",
              "      <th>0</th>\n",
              "      <td>2020010219808</td>\n",
              "      <td>2020</td>\n",
              "      <td>010219808</td>\n",
              "      <td>521389.0</td>\n",
              "      <td>175144.0</td>\n",
              "      <td>-0.254001</td>\n",
              "      <td>51.462262</td>\n",
              "      <td>Metropolitan Police</td>\n",
              "      <td>Slight</td>\n",
              "      <td>1</td>\n",
              "      <td>...</td>\n",
              "      <td>unknown (self reported)</td>\n",
              "      <td>Daylight</td>\n",
              "      <td>NaN</td>\n",
              "      <td>unknown (self reported)</td>\n",
              "      <td>None</td>\n",
              "      <td>None</td>\n",
              "      <td>Urban</td>\n",
              "      <td>No - accident was reported using a self comple...</td>\n",
              "      <td>Non-trunk</td>\n",
              "      <td>E01004576</td>\n",
              "    </tr>\n",
              "    <tr>\n",
              "      <th>1</th>\n",
              "      <td>2020010220496</td>\n",
              "      <td>2020</td>\n",
              "      <td>010220496</td>\n",
              "      <td>529337.0</td>\n",
              "      <td>176237.0</td>\n",
              "      <td>-0.139253</td>\n",
              "      <td>51.470327</td>\n",
              "      <td>Metropolitan Police</td>\n",
              "      <td>Slight</td>\n",
              "      <td>1</td>\n",
              "      <td>...</td>\n",
              "      <td>Pelican, puffin, toucan or similar non-junctio...</td>\n",
              "      <td>Daylight</td>\n",
              "      <td>Fine no high winds</td>\n",
              "      <td>Dry</td>\n",
              "      <td>None</td>\n",
              "      <td>None</td>\n",
              "      <td>Urban</td>\n",
              "      <td>Yes</td>\n",
              "      <td>Non-trunk</td>\n",
              "      <td>E01003034</td>\n",
              "    </tr>\n",
              "    <tr>\n",
              "      <th>2</th>\n",
              "      <td>2020010228005</td>\n",
              "      <td>2020</td>\n",
              "      <td>010228005</td>\n",
              "      <td>526432.0</td>\n",
              "      <td>182761.0</td>\n",
              "      <td>-0.178719</td>\n",
              "      <td>51.529614</td>\n",
              "      <td>Metropolitan Police</td>\n",
              "      <td>Slight</td>\n",
              "      <td>1</td>\n",
              "      <td>...</td>\n",
              "      <td>No physical crossing facilities within 50 metres</td>\n",
              "      <td>Darkness - lights lit</td>\n",
              "      <td>Fine no high winds</td>\n",
              "      <td>Wet or damp</td>\n",
              "      <td>None</td>\n",
              "      <td>None</td>\n",
              "      <td>Urban</td>\n",
              "      <td>Yes</td>\n",
              "      <td>Non-trunk</td>\n",
              "      <td>E01004726</td>\n",
              "    </tr>\n",
              "    <tr>\n",
              "      <th>3</th>\n",
              "      <td>2020010228006</td>\n",
              "      <td>2020</td>\n",
              "      <td>010228006</td>\n",
              "      <td>538676.0</td>\n",
              "      <td>184371.0</td>\n",
              "      <td>-0.001683</td>\n",
              "      <td>51.541210</td>\n",
              "      <td>Metropolitan Police</td>\n",
              "      <td>Serious</td>\n",
              "      <td>1</td>\n",
              "      <td>...</td>\n",
              "      <td>Pelican, puffin, toucan or similar non-junctio...</td>\n",
              "      <td>Darkness - lights lit</td>\n",
              "      <td>Fine no high winds</td>\n",
              "      <td>Dry</td>\n",
              "      <td>None</td>\n",
              "      <td>None</td>\n",
              "      <td>Urban</td>\n",
              "      <td>Yes</td>\n",
              "      <td>Non-trunk</td>\n",
              "      <td>E01003617</td>\n",
              "    </tr>\n",
              "    <tr>\n",
              "      <th>4</th>\n",
              "      <td>2020010228011</td>\n",
              "      <td>2020</td>\n",
              "      <td>010228011</td>\n",
              "      <td>529324.0</td>\n",
              "      <td>181286.0</td>\n",
              "      <td>-0.137592</td>\n",
              "      <td>51.515704</td>\n",
              "      <td>Metropolitan Police</td>\n",
              "      <td>Slight</td>\n",
              "      <td>1</td>\n",
              "      <td>...</td>\n",
              "      <td>No physical crossing facilities within 50 metres</td>\n",
              "      <td>Darkness - lights lit</td>\n",
              "      <td>Fine no high winds</td>\n",
              "      <td>Dry</td>\n",
              "      <td>None</td>\n",
              "      <td>None</td>\n",
              "      <td>Urban</td>\n",
              "      <td>Yes</td>\n",
              "      <td>Non-trunk</td>\n",
              "      <td>E01004763</td>\n",
              "    </tr>\n",
              "  </tbody>\n",
              "</table>\n",
              "<p>5 rows × 36 columns</p>\n",
              "</div>\n",
              "      <button class=\"colab-df-convert\" onclick=\"convertToInteractive('df-dcbc587f-42c8-4a50-ba58-3d194aa42ec8')\"\n",
              "              title=\"Convert this dataframe to an interactive table.\"\n",
              "              style=\"display:none;\">\n",
              "        \n",
              "  <svg xmlns=\"http://www.w3.org/2000/svg\" height=\"24px\"viewBox=\"0 0 24 24\"\n",
              "       width=\"24px\">\n",
              "    <path d=\"M0 0h24v24H0V0z\" fill=\"none\"/>\n",
              "    <path d=\"M18.56 5.44l.94 2.06.94-2.06 2.06-.94-2.06-.94-.94-2.06-.94 2.06-2.06.94zm-11 1L8.5 8.5l.94-2.06 2.06-.94-2.06-.94L8.5 2.5l-.94 2.06-2.06.94zm10 10l.94 2.06.94-2.06 2.06-.94-2.06-.94-.94-2.06-.94 2.06-2.06.94z\"/><path d=\"M17.41 7.96l-1.37-1.37c-.4-.4-.92-.59-1.43-.59-.52 0-1.04.2-1.43.59L10.3 9.45l-7.72 7.72c-.78.78-.78 2.05 0 2.83L4 21.41c.39.39.9.59 1.41.59.51 0 1.02-.2 1.41-.59l7.78-7.78 2.81-2.81c.8-.78.8-2.07 0-2.86zM5.41 20L4 18.59l7.72-7.72 1.47 1.35L5.41 20z\"/>\n",
              "  </svg>\n",
              "      </button>\n",
              "      \n",
              "  <style>\n",
              "    .colab-df-container {\n",
              "      display:flex;\n",
              "      flex-wrap:wrap;\n",
              "      gap: 12px;\n",
              "    }\n",
              "\n",
              "    .colab-df-convert {\n",
              "      background-color: #E8F0FE;\n",
              "      border: none;\n",
              "      border-radius: 50%;\n",
              "      cursor: pointer;\n",
              "      display: none;\n",
              "      fill: #1967D2;\n",
              "      height: 32px;\n",
              "      padding: 0 0 0 0;\n",
              "      width: 32px;\n",
              "    }\n",
              "\n",
              "    .colab-df-convert:hover {\n",
              "      background-color: #E2EBFA;\n",
              "      box-shadow: 0px 1px 2px rgba(60, 64, 67, 0.3), 0px 1px 3px 1px rgba(60, 64, 67, 0.15);\n",
              "      fill: #174EA6;\n",
              "    }\n",
              "\n",
              "    [theme=dark] .colab-df-convert {\n",
              "      background-color: #3B4455;\n",
              "      fill: #D2E3FC;\n",
              "    }\n",
              "\n",
              "    [theme=dark] .colab-df-convert:hover {\n",
              "      background-color: #434B5C;\n",
              "      box-shadow: 0px 1px 3px 1px rgba(0, 0, 0, 0.15);\n",
              "      filter: drop-shadow(0px 1px 2px rgba(0, 0, 0, 0.3));\n",
              "      fill: #FFFFFF;\n",
              "    }\n",
              "  </style>\n",
              "\n",
              "      <script>\n",
              "        const buttonEl =\n",
              "          document.querySelector('#df-dcbc587f-42c8-4a50-ba58-3d194aa42ec8 button.colab-df-convert');\n",
              "        buttonEl.style.display =\n",
              "          google.colab.kernel.accessAllowed ? 'block' : 'none';\n",
              "\n",
              "        async function convertToInteractive(key) {\n",
              "          const element = document.querySelector('#df-dcbc587f-42c8-4a50-ba58-3d194aa42ec8');\n",
              "          const dataTable =\n",
              "            await google.colab.kernel.invokeFunction('convertToInteractive',\n",
              "                                                     [key], {});\n",
              "          if (!dataTable) return;\n",
              "\n",
              "          const docLinkHtml = 'Like what you see? Visit the ' +\n",
              "            '<a target=\"_blank\" href=https://colab.research.google.com/notebooks/data_table.ipynb>data table notebook</a>'\n",
              "            + ' to learn more about interactive tables.';\n",
              "          element.innerHTML = '';\n",
              "          dataTable['output_type'] = 'display_data';\n",
              "          await google.colab.output.renderOutput(dataTable, element);\n",
              "          const docLink = document.createElement('div');\n",
              "          docLink.innerHTML = docLinkHtml;\n",
              "          element.appendChild(docLink);\n",
              "        }\n",
              "      </script>\n",
              "    </div>\n",
              "  </div>\n",
              "  "
            ]
          },
          "metadata": {},
          "execution_count": 5
        }
      ],
      "source": [
        "df.head()"
      ]
    },
    {
      "cell_type": "markdown",
      "metadata": {
        "id": "VxLPHlARNqlm"
      },
      "source": [
        "# 2- EDA"
      ]
    },
    {
      "cell_type": "markdown",
      "metadata": {
        "id": "35yW9BZdhF-E"
      },
      "source": [
        "### Question 1: What are the most frequent locations (clusters) that have accidents ? - We will use the latitude and longitude data found in the dataset provided -\n"
      ]
    },
    {
      "cell_type": "code",
      "execution_count": 6,
      "metadata": {
        "colab": {
          "base_uri": "https://localhost:8080/",
          "height": 500
        },
        "id": "Ld0zSBqfNqlo",
        "outputId": "c538b6ea-2840-4040-af6f-753f4da02598"
      },
      "outputs": [
        {
          "output_type": "display_data",
          "data": {
            "text/plain": [
              "<Figure size 842.4x595.44 with 1 Axes>"
            ],
            "image/png": "[encoded data removed]"
          },
          "metadata": {}
        }
      ],
      "source": [
        "plt.plot(df['longitude'], df['latitude'], 'o', );\n"
      ]
    },
    {
      "cell_type": "markdown",
      "metadata": {
        "id": "vk1Gh2e5hF-F"
      },
      "source": [
        "We can see that there are many points in the data, so we will need to plot every 150th point to deteremine any pattern in the data."
      ]
    },
    {
      "cell_type": "code",
      "execution_count": 7,
      "metadata": {
        "colab": {
          "base_uri": "https://localhost:8080/",
          "height": 500
        },
        "id": "cwjlWx8TNqlp",
        "outputId": "62314102-607f-4829-d0a1-c850c14f4b17"
      },
      "outputs": [
        {
          "output_type": "display_data",
          "data": {
            "text/plain": [
              "<Figure size 842.4x595.44 with 1 Axes>"
            ],
            "image/png": "[encoded data removed]"
          },
          "metadata": {}
        }
      ],
      "source": [
        "plt.plot(df['longitude'], df['latitude'], 'o', ms=6, markevery=150);\n"
      ]
    },
    {
      "cell_type": "markdown",
      "metadata": {
        "id": "ce9aMx9MhF-F"
      },
      "source": [
        "We can now see the resemblance between the figure and the map of the UK. It is clear from the clusters in the figure that areas with higher population count like London in the lower right corner, Manchester in the middle towards the left, and Liverpool above Manchester on the left have higher number of accidents."
      ]
    },
    {
      "cell_type": "markdown",
      "metadata": {
        "id": "DXRceAxNNqlr"
      },
      "source": [
        "### Question 2: does the day of the week affect the number of accidents ? and does the time of the day have an effect on the number of accidents ? "
      ]
    },
    {
      "cell_type": "code",
      "execution_count": 8,
      "metadata": {
        "colab": {
          "base_uri": "https://localhost:8080/",
          "height": 559
        },
        "id": "6k4S0vSuNqlr",
        "outputId": "24a19f72-5b35-46c7-9c61-3d15762fe10e"
      },
      "outputs": [
        {
          "output_type": "display_data",
          "data": {
            "text/plain": [
              "<Figure size 842.4x595.44 with 1 Axes>"
            ],
            "image/png": "[encoded data removed]"
          },
          "metadata": {}
        }
      ],
      "source": [
        "sb.histplot(df['day_of_week'], shrink=.8)\n",
        "plt.xticks(rotation=45);\n",
        "# plt.hist(df['day_of_week'])"
      ]
    },
    {
      "cell_type": "markdown",
      "metadata": {
        "id": "X-uAV3YJhF-G"
      },
      "source": [
        "**Number of accidents in relation to weekday:**\n",
        "It is clear from the histogram that the number of the accidents is at a peak on fridays and drops significantly on the weekends and especially on Sundays. Next, we will analyze the time of the day's effect on the number of accidents."
      ]
    },
    {
      "cell_type": "code",
      "execution_count": 9,
      "metadata": {
        "colab": {
          "base_uri": "https://localhost:8080/"
        },
        "id": "qiBRo650Nqlt",
        "outputId": "f61d59a8-f871-4fc7-d33a-2590a11339a5"
      },
      "outputs": [
        {
          "output_type": "execute_result",
          "data": {
            "text/plain": [
              "0    09:00\n",
              "1    13:55\n",
              "2    01:25\n",
              "3    01:50\n",
              "4    02:25\n",
              "Name: time, dtype: object"
            ]
          },
          "metadata": {},
          "execution_count": 9
        }
      ],
      "source": [
        "df['time'].head()"
      ]
    },
    {
      "cell_type": "code",
      "execution_count": 10,
      "metadata": {
        "id": "up3y6twMNqlu"
      },
      "outputs": [],
      "source": [
        "def get_hour (x:str) :\n",
        "    return (x.split(':')[0])\n",
        "\n",
        "df['time_hour']= df['time'].apply(get_hour)\n"
      ]
    },
    {
      "cell_type": "code",
      "execution_count": 11,
      "metadata": {
        "colab": {
          "base_uri": "https://localhost:8080/",
          "height": 507
        },
        "id": "8rKCdiv6Nqlu",
        "outputId": "d0859fec-8419-4075-8f84-e03c7fdafaef"
      },
      "outputs": [
        {
          "output_type": "display_data",
          "data": {
            "text/plain": [
              "<Figure size 842.4x595.44 with 1 Axes>"
            ],
            "image/png": "[encoded data removed]"
          },
          "metadata": {}
        }
      ],
      "source": [
        "sb.histplot(np.sort(df['time_hour']), shrink=.8,  bins=24)\n",
        "plt.xticks(rotation=45);"
      ]
    },
    {
      "cell_type": "markdown",
      "metadata": {
        "id": "fcOoRzejhF-H"
      },
      "source": [
        "**Number of accidents in relation to time of day:**\n",
        "From the histogram, it is clear that the most number of accidents happen at 17:00 and 18:00, which can be explained with the rush hour. Morever, the least number of accidents occur from 22:00 till 6:00, we can deduce that this is because people are usually asleep during those times and thus less people are driving resulting in less accidents."
      ]
    },
    {
      "cell_type": "markdown",
      "metadata": {
        "id": "dJmW5hjrhF-H"
      },
      "source": [
        "## We will now delve in the multivariate exploration of the data\n",
        "### Question 3: We will now explore the relationship between the road type and the severity of the accident."
      ]
    },
    {
      "cell_type": "code",
      "execution_count": 12,
      "metadata": {
        "colab": {
          "base_uri": "https://localhost:8080/"
        },
        "id": "KrEMyu0FNqlw",
        "outputId": "8e015e03-8e48-4a06-9a61-2c034d29c1e7"
      },
      "outputs": [
        {
          "output_type": "execute_result",
          "data": {
            "text/plain": [
              "array(['Single carriageway', 'One way street', 'Dual carriageway',\n",
              "       'Slip road', 'Roundabout', nan], dtype=object)"
            ]
          },
          "metadata": {},
          "execution_count": 12
        }
      ],
      "source": [
        "df['road_type'].unique()"
      ]
    },
    {
      "cell_type": "code",
      "execution_count": 13,
      "metadata": {
        "colab": {
          "base_uri": "https://localhost:8080/"
        },
        "id": "JEXl6YdINqlx",
        "outputId": "400cceb1-2755-4fcf-c4ae-9bb53be853a0"
      },
      "outputs": [
        {
          "output_type": "execute_result",
          "data": {
            "text/plain": [
              "array(['Slight', 'Serious', 'Fatal'], dtype=object)"
            ]
          },
          "metadata": {},
          "execution_count": 13
        }
      ],
      "source": [
        "df['accident_severity'].unique()"
      ]
    },
    {
      "cell_type": "code",
      "execution_count": 14,
      "metadata": {
        "colab": {
          "base_uri": "https://localhost:8080/"
        },
        "id": "l87wjbroNqly",
        "outputId": "533d6252-4504-4079-b5ba-b72f92c3bd23"
      },
      "outputs": [
        {
          "output_type": "execute_result",
          "data": {
            "text/plain": [
              "91199"
            ]
          },
          "metadata": {},
          "execution_count": 14
        }
      ],
      "source": [
        "df['number_of_casualties'].count()"
      ]
    },
    {
      "cell_type": "code",
      "execution_count": 15,
      "metadata": {
        "colab": {
          "base_uri": "https://localhost:8080/",
          "height": 437
        },
        "id": "OHN4X6rANqly",
        "outputId": "428c6f29-09b5-49f1-ba17-17ad0430ab34"
      },
      "outputs": [
        {
          "output_type": "display_data",
          "data": {
            "text/plain": [
              "<Figure size 474.55x360 with 1 Axes>"
            ],
            "image/png": "[encoded data removed]"
          },
          "metadata": {}
        }
      ],
      "source": [
        "df1 = df.groupby(\"road_type\")[\"accident_severity\"].value_counts(normalize=True)\n",
        "df1 = df1.mul(100)\n",
        "df1 = df1.rename('percent').reset_index()\n",
        "sb.catplot(data=df1, x=\"road_type\", y=\"percent\", hue=\"accident_severity\", kind=\"bar\")\n",
        "plt.xticks(rotation=45);\n"
      ]
    },
    {
      "cell_type": "markdown",
      "metadata": {
        "id": "rpjK_64chF-J"
      },
      "source": [
        "**Accident severity in relation to roadtype:**\n",
        "From the histogram in the above figure, it is clear that more severe accidents happen on the single carriageway as the number of serious and fatal accidents are the highest in the single carriageway roadtype as this road has no separation between the two traffic lanes. Morevover, the least severe accidents occur on the one way street roadtypes as there are almost no fatal accidents and the least serious accidents in this roadtype which is logical."
      ]
    },
    {
      "cell_type": "markdown",
      "source": [
        "### Question 4: We will now explore the relationship between the road type and the number of casualities per accident."
      ],
      "metadata": {
        "id": "UtLq63QA1lo7"
      }
    },
    {
      "cell_type": "code",
      "execution_count": 16,
      "metadata": {
        "colab": {
          "base_uri": "https://localhost:8080/",
          "height": 437
        },
        "id": "RCxhptvANqlz",
        "outputId": "285d4de6-b77a-4209-ec0f-be93664060b2"
      },
      "outputs": [
        {
          "output_type": "display_data",
          "data": {
            "text/plain": [
              "<Figure size 360x360 with 1 Axes>"
            ],
            "image/png": "[encoded data removed]"
          },
          "metadata": {}
        }
      ],
      "source": [
        "sb.catplot(data=df, x=\"road_type\", y=\"number_of_casualties\")\n",
        "plt.xticks(rotation=45);\n"
      ]
    },
    {
      "cell_type": "markdown",
      "source": [
        "**Number of casualties in relation to road type:**\n",
        "From the above figure, we can observe that the highest number of casualties per accident is in the single carriageway roadtype (due to the road's nature as explained before). Morever, the least number of casualties per accident are in the one way street roadtype. These observations align with the observations about the road severity in relation to roadtype as well."
      ],
      "metadata": {
        "id": "5YbpJ4zDvC3f"
      }
    },
    {
      "cell_type": "markdown",
      "metadata": {
        "id": "IZm7EyZkxQP9"
      },
      "source": [
        "### Question 5: We will now explore the relationship between the speed limit and the accident severity."
      ]
    },
    {
      "cell_type": "markdown",
      "source": [
        "First we will explore the speed limit distribution in the data using a histogram to visualize it."
      ],
      "metadata": {
        "id": "Ikz7PcMwyf4s"
      }
    },
    {
      "cell_type": "code",
      "execution_count": 17,
      "metadata": {
        "colab": {
          "base_uri": "https://localhost:8080/",
          "height": 609
        },
        "id": "_7LFPWoANql0",
        "outputId": "30e17494-c74c-40c5-97f8-6bb3f5282366"
      },
      "outputs": [
        {
          "output_type": "display_data",
          "data": {
            "text/plain": [
              "<Figure size 842.4x595.44 with 1 Axes>"
            ],
            "image/png": "[encoded data removed]"
          },
          "metadata": {}
        }
      ],
      "source": [
        "sb.histplot(np.sort(df['speed_limit']), shrink=.8,)\n",
        "plt.xticks(rotation=45);"
      ]
    },
    {
      "cell_type": "code",
      "execution_count": 18,
      "metadata": {
        "colab": {
          "base_uri": "https://localhost:8080/"
        },
        "id": "dhYBE6R3Nql0",
        "outputId": "358d11fc-9a4c-4b50-c111-96f11c9523e3"
      },
      "outputs": [
        {
          "output_type": "execute_result",
          "data": {
            "text/plain": [
              "30.0                            52260\n",
              "60.0                            11408\n",
              "20.0                            11183\n",
              "40.0                             7867\n",
              "70.0                             4687\n",
              "50.0                             3782\n",
              "Data missing or out of range       12\n",
              "Name: speed_limit, dtype: int64"
            ]
          },
          "metadata": {},
          "execution_count": 18
        }
      ],
      "source": [
        "df['speed_limit'].value_counts()"
      ]
    },
    {
      "cell_type": "code",
      "execution_count": 19,
      "metadata": {
        "colab": {
          "base_uri": "https://localhost:8080/",
          "height": 474
        },
        "id": "iD5IV9gjNql1",
        "outputId": "4ed3675c-03e9-4485-abd5-38b6f3864054"
      },
      "outputs": [
        {
          "output_type": "display_data",
          "data": {
            "text/plain": [
              "<Figure size 474.55x360 with 1 Axes>"
            ],
            "image/png": "[encoded data removed]"
          },
          "metadata": {}
        }
      ],
      "source": [
        "df1 = df.groupby(\"speed_limit\")[\"accident_severity\"].value_counts(normalize=True)\n",
        "df1 = df1.mul(100)\n",
        "df1 = df1.rename('percent').reset_index()\n",
        "sb.catplot(data=df1, x=\"speed_limit\", y=\"percent\", hue=\"accident_severity\", kind=\"bar\")\n",
        "plt.xticks(rotation=45);"
      ]
    },
    {
      "cell_type": "markdown",
      "metadata": {
        "id": "lwxQ-Wn2hF-K"
      },
      "source": [
        "**Accident severity in relation to speed limit:**\n",
        "From the histogram in the figure above, we can observe a pattern where the accident severity increases as the speed limit increase however accidents are more severe at speed limit 60 than 70. "
      ]
    },
    {
      "cell_type": "markdown",
      "metadata": {
        "id": "F_iOWS3lNql1"
      },
      "source": [
        "Finished EDA"
      ]
    },
    {
      "cell_type": "code",
      "execution_count": 19,
      "metadata": {
        "id": "VdOf-1yeNql1"
      },
      "outputs": [],
      "source": []
    },
    {
      "cell_type": "markdown",
      "metadata": {
        "id": "F5WDtAltNql2"
      },
      "source": [
        "# 3 - Cleaning Data"
      ]
    },
    {
      "cell_type": "markdown",
      "metadata": {
        "id": "anM1h3j9Nql2"
      },
      "source": [
        "## Observing Missing and duplicate Data"
      ]
    },
    {
      "cell_type": "markdown",
      "source": [
        "Observing missing data:"
      ],
      "metadata": {
        "id": "Kyld7T93RIn8"
      }
    },
    {
      "cell_type": "code",
      "execution_count": 43,
      "metadata": {
        "colab": {
          "base_uri": "https://localhost:8080/"
        },
        "id": "NOV-d9rgNql2",
        "outputId": "3b8dab59-1426-46ad-9cd6-a56f6067a9aa"
      },
      "outputs": [
        {
          "output_type": "stream",
          "name": "stdout",
          "text": [
            "<class 'pandas.core.frame.DataFrame'>\n",
            "Int64Index: 91185 entries, 0 to 91198\n",
            "Data columns (total 39 columns):\n",
            " #   Column                                       Non-Null Count  Dtype         \n",
            "---  ------                                       --------------  -----         \n",
            " 0   accident_index                               91185 non-null  object        \n",
            " 1   accident_year                                91185 non-null  int64         \n",
            " 2   accident_reference                           91185 non-null  object        \n",
            " 3   location_easting_osgr                        91185 non-null  float64       \n",
            " 4   location_northing_osgr                       91185 non-null  float64       \n",
            " 5   longitude                                    91185 non-null  float64       \n",
            " 6   latitude                                     91185 non-null  float64       \n",
            " 7   police_force                                 91185 non-null  object        \n",
            " 8   accident_severity                            91185 non-null  object        \n",
            " 9   number_of_vehicles                           91185 non-null  int64         \n",
            " 10  number_of_casualties                         91185 non-null  int64         \n",
            " 11  date                                         91185 non-null  datetime64[ns]\n",
            " 12  day_of_week                                  91185 non-null  object        \n",
            " 13  time                                         91185 non-null  object        \n",
            " 14  local_authority_district                     91185 non-null  object        \n",
            " 15  local_authority_ons_district                 91185 non-null  object        \n",
            " 16  local_authority_highway                      91185 non-null  object        \n",
            " 17  first_road_class                             91185 non-null  object        \n",
            " 18  first_road_number                            91185 non-null  object        \n",
            " 19  road_type                                    91185 non-null  object        \n",
            " 20  speed_limit                                  91185 non-null  object        \n",
            " 21  junction_detail                              91185 non-null  object        \n",
            " 22  junction_control                             91185 non-null  object        \n",
            " 23  second_road_class                            91185 non-null  object        \n",
            " 24  second_road_number                           53146 non-null  object        \n",
            " 25  pedestrian_crossing_human_control            91185 non-null  object        \n",
            " 26  pedestrian_crossing_physical_facilities      91185 non-null  object        \n",
            " 27  light_conditions                             91185 non-null  object        \n",
            " 28  weather_conditions                           88764 non-null  object        \n",
            " 29  road_surface_conditions                      91185 non-null  object        \n",
            " 30  special_conditions_at_site                   91185 non-null  object        \n",
            " 31  carriageway_hazards                          91185 non-null  object        \n",
            " 32  urban_or_rural_area                          91185 non-null  object        \n",
            " 33  did_police_officer_attend_scene_of_accident  91185 non-null  object        \n",
            " 34  trunk_road_flag                              91185 non-null  object        \n",
            " 35  lsoa_of_accident_location                    91185 non-null  object        \n",
            " 36  time_hour                                    91185 non-null  object        \n",
            " 37  month                                        91185 non-null  int64         \n",
            " 38  new_weather_conditions                       91185 non-null  object        \n",
            "dtypes: datetime64[ns](1), float64(4), int64(4), object(30)\n",
            "memory usage: 29.8+ MB\n"
          ]
        }
      ],
      "source": [
        "df.info()"
      ]
    },
    {
      "cell_type": "markdown",
      "metadata": {
        "id": "F7L4_mQQNql3"
      },
      "source": [
        "The missing location easting ogr and location westing ogr and latitude and longitude are missing completely at random."
      ]
    },
    {
      "cell_type": "code",
      "execution_count": 44,
      "metadata": {
        "colab": {
          "base_uri": "https://localhost:8080/"
        },
        "id": "qHqVw7vANql3",
        "outputId": "17a2140a-6c95-4f6a-ba25-c78a403d1cd0"
      },
      "outputs": [
        {
          "output_type": "execute_result",
          "data": {
            "text/plain": [
              "Single carriageway    68431\n",
              "Dual carriageway      13509\n",
              "Roundabout             5695\n",
              "One way street         2018\n",
              "Slip road              1532\n",
              "Name: road_type, dtype: int64"
            ]
          },
          "metadata": {},
          "execution_count": 44
        }
      ],
      "source": [
        "df['road_type'].value_counts()\n"
      ]
    },
    {
      "cell_type": "code",
      "execution_count": 45,
      "metadata": {
        "id": "DZSLp8HDNql3"
      },
      "outputs": [],
      "source": [
        "road_type_nan = df[df[\"road_type\"].isna()]\n",
        "road_type_not_nan = df[df[\"road_type\"].notna()]\n"
      ]
    },
    {
      "cell_type": "code",
      "execution_count": 46,
      "metadata": {
        "colab": {
          "base_uri": "https://localhost:8080/",
          "height": 143
        },
        "id": "vGk3IIIlNql3",
        "outputId": "7846562e-02db-48d9-a571-5740a99733f7"
      },
      "outputs": [
        {
          "output_type": "display_data",
          "data": {
            "text/plain": [
              "Empty DataFrame\n",
              "Columns: [accident_index, accident_year, accident_reference, location_easting_osgr, location_northing_osgr, longitude, latitude, police_force, accident_severity, number_of_vehicles, number_of_casualties, date, day_of_week, time, local_authority_district, local_authority_ons_district, local_authority_highway, first_road_class, first_road_number, road_type, speed_limit, junction_detail, junction_control, second_road_class, second_road_number, pedestrian_crossing_human_control, pedestrian_crossing_physical_facilities, light_conditions, weather_conditions, road_surface_conditions, special_conditions_at_site, carriageway_hazards, urban_or_rural_area, did_police_officer_attend_scene_of_accident, trunk_road_flag, lsoa_of_accident_location, time_hour, month, new_weather_conditions]\n",
              "Index: []\n",
              "\n",
              "[0 rows x 39 columns]"
            ],
            "text/html": [
              "\n",
              "  <div id=\"df-603c56f4-ee8e-4fb4-8943-73f1e6581a15\">\n",
              "    <div class=\"colab-df-container\">\n",
              "      <div>\n",
              "<style scoped>\n",
              "    .dataframe tbody tr th:only-of-type {\n",
              "        vertical-align: middle;\n",
              "    }\n",
              "\n",
              "    .dataframe tbody tr th {\n",
              "        vertical-align: top;\n",
              "    }\n",
              "\n",
              "    .dataframe thead th {\n",
              "        text-align: right;\n",
              "    }\n",
              "</style>\n",
              "<table border=\"1\" class=\"dataframe\">\n",
              "  <thead>\n",
              "    <tr style=\"text-align: right;\">\n",
              "      <th></th>\n",
              "      <th>accident_index</th>\n",
              "      <th>accident_year</th>\n",
              "      <th>accident_reference</th>\n",
              "      <th>location_easting_osgr</th>\n",
              "      <th>location_northing_osgr</th>\n",
              "      <th>longitude</th>\n",
              "      <th>latitude</th>\n",
              "      <th>police_force</th>\n",
              "      <th>accident_severity</th>\n",
              "      <th>number_of_vehicles</th>\n",
              "      <th>...</th>\n",
              "      <th>road_surface_conditions</th>\n",
              "      <th>special_conditions_at_site</th>\n",
              "      <th>carriageway_hazards</th>\n",
              "      <th>urban_or_rural_area</th>\n",
              "      <th>did_police_officer_attend_scene_of_accident</th>\n",
              "      <th>trunk_road_flag</th>\n",
              "      <th>lsoa_of_accident_location</th>\n",
              "      <th>time_hour</th>\n",
              "      <th>month</th>\n",
              "      <th>new_weather_conditions</th>\n",
              "    </tr>\n",
              "  </thead>\n",
              "  <tbody>\n",
              "  </tbody>\n",
              "</table>\n",
              "<p>0 rows × 39 columns</p>\n",
              "</div>\n",
              "      <button class=\"colab-df-convert\" onclick=\"convertToInteractive('df-603c56f4-ee8e-4fb4-8943-73f1e6581a15')\"\n",
              "              title=\"Convert this dataframe to an interactive table.\"\n",
              "              style=\"display:none;\">\n",
              "        \n",
              "  <svg xmlns=\"http://www.w3.org/2000/svg\" height=\"24px\"viewBox=\"0 0 24 24\"\n",
              "       width=\"24px\">\n",
              "    <path d=\"M0 0h24v24H0V0z\" fill=\"none\"/>\n",
              "    <path d=\"M18.56 5.44l.94 2.06.94-2.06 2.06-.94-2.06-.94-.94-2.06-.94 2.06-2.06.94zm-11 1L8.5 8.5l.94-2.06 2.06-.94-2.06-.94L8.5 2.5l-.94 2.06-2.06.94zm10 10l.94 2.06.94-2.06 2.06-.94-2.06-.94-.94-2.06-.94 2.06-2.06.94z\"/><path d=\"M17.41 7.96l-1.37-1.37c-.4-.4-.92-.59-1.43-.59-.52 0-1.04.2-1.43.59L10.3 9.45l-7.72 7.72c-.78.78-.78 2.05 0 2.83L4 21.41c.39.39.9.59 1.41.59.51 0 1.02-.2 1.41-.59l7.78-7.78 2.81-2.81c.8-.78.8-2.07 0-2.86zM5.41 20L4 18.59l7.72-7.72 1.47 1.35L5.41 20z\"/>\n",
              "  </svg>\n",
              "      </button>\n",
              "      \n",
              "  <style>\n",
              "    .colab-df-container {\n",
              "      display:flex;\n",
              "      flex-wrap:wrap;\n",
              "      gap: 12px;\n",
              "    }\n",
              "\n",
              "    .colab-df-convert {\n",
              "      background-color: #E8F0FE;\n",
              "      border: none;\n",
              "      border-radius: 50%;\n",
              "      cursor: pointer;\n",
              "      display: none;\n",
              "      fill: #1967D2;\n",
              "      height: 32px;\n",
              "      padding: 0 0 0 0;\n",
              "      width: 32px;\n",
              "    }\n",
              "\n",
              "    .colab-df-convert:hover {\n",
              "      background-color: #E2EBFA;\n",
              "      box-shadow: 0px 1px 2px rgba(60, 64, 67, 0.3), 0px 1px 3px 1px rgba(60, 64, 67, 0.15);\n",
              "      fill: #174EA6;\n",
              "    }\n",
              "\n",
              "    [theme=dark] .colab-df-convert {\n",
              "      background-color: #3B4455;\n",
              "      fill: #D2E3FC;\n",
              "    }\n",
              "\n",
              "    [theme=dark] .colab-df-convert:hover {\n",
              "      background-color: #434B5C;\n",
              "      box-shadow: 0px 1px 3px 1px rgba(0, 0, 0, 0.15);\n",
              "      filter: drop-shadow(0px 1px 2px rgba(0, 0, 0, 0.3));\n",
              "      fill: #FFFFFF;\n",
              "    }\n",
              "  </style>\n",
              "\n",
              "      <script>\n",
              "        const buttonEl =\n",
              "          document.querySelector('#df-603c56f4-ee8e-4fb4-8943-73f1e6581a15 button.colab-df-convert');\n",
              "        buttonEl.style.display =\n",
              "          google.colab.kernel.accessAllowed ? 'block' : 'none';\n",
              "\n",
              "        async function convertToInteractive(key) {\n",
              "          const element = document.querySelector('#df-603c56f4-ee8e-4fb4-8943-73f1e6581a15');\n",
              "          const dataTable =\n",
              "            await google.colab.kernel.invokeFunction('convertToInteractive',\n",
              "                                                     [key], {});\n",
              "          if (!dataTable) return;\n",
              "\n",
              "          const docLinkHtml = 'Like what you see? Visit the ' +\n",
              "            '<a target=\"_blank\" href=https://colab.research.google.com/notebooks/data_table.ipynb>data table notebook</a>'\n",
              "            + ' to learn more about interactive tables.';\n",
              "          element.innerHTML = '';\n",
              "          dataTable['output_type'] = 'display_data';\n",
              "          await google.colab.output.renderOutput(dataTable, element);\n",
              "          const docLink = document.createElement('div');\n",
              "          docLink.innerHTML = docLinkHtml;\n",
              "          element.appendChild(docLink);\n",
              "        }\n",
              "      </script>\n",
              "    </div>\n",
              "  </div>\n",
              "  "
            ]
          },
          "metadata": {}
        }
      ],
      "source": [
        "display(road_type_nan.head())"
      ]
    },
    {
      "cell_type": "code",
      "execution_count": 47,
      "metadata": {
        "colab": {
          "base_uri": "https://localhost:8080/"
        },
        "id": "WLuECUrTNql4",
        "outputId": "0233d6b8-5eee-45b5-d90d-c65845ce5021"
      },
      "outputs": [
        {
          "output_type": "execute_result",
          "data": {
            "text/plain": [
              "Yes                                                                         62435\n",
              "No                                                                          19631\n",
              "No - accident was reported using a self completion  form (self rep only)     9118\n",
              "Data missing or out of range                                                    1\n",
              "Name: did_police_officer_attend_scene_of_accident, dtype: int64"
            ]
          },
          "metadata": {},
          "execution_count": 47
        }
      ],
      "source": [
        "road_type_not_nan['did_police_officer_attend_scene_of_accident'].value_counts()"
      ]
    },
    {
      "cell_type": "code",
      "execution_count": 48,
      "metadata": {
        "colab": {
          "base_uri": "https://localhost:8080/"
        },
        "id": "-v8YlSyJNql4",
        "outputId": "e1771096-3ec8-4669-b513-6da14874afb2"
      },
      "outputs": [
        {
          "output_type": "execute_result",
          "data": {
            "text/plain": [
              "Series([], Name: did_police_officer_attend_scene_of_accident, dtype: int64)"
            ]
          },
          "metadata": {},
          "execution_count": 48
        }
      ],
      "source": [
        "road_type_nan['did_police_officer_attend_scene_of_accident'].value_counts () "
      ]
    },
    {
      "cell_type": "code",
      "execution_count": 49,
      "metadata": {
        "colab": {
          "base_uri": "https://localhost:8080/"
        },
        "id": "ZzE0WNtvNql4",
        "outputId": "4f3058fd-9b13-4f81-9bc5-9e2540242c18"
      },
      "outputs": [
        {
          "output_type": "execute_result",
          "data": {
            "text/plain": [
              "Not at junction or within 20 metres    37922\n",
              "Unclassified                           36430\n",
              "A                                       9563\n",
              "B                                       3656\n",
              "C                                       3154\n",
              "Motorway                                 314\n",
              "-1                                       110\n",
              "A(M)                                      36\n",
              "Name: second_road_class, dtype: int64"
            ]
          },
          "metadata": {},
          "execution_count": 49
        }
      ],
      "source": [
        "df['second_road_class'].value_counts()\n",
        "\n"
      ]
    },
    {
      "cell_type": "code",
      "execution_count": 50,
      "metadata": {
        "id": "GSx7EoPmNql5"
      },
      "outputs": [],
      "source": [
        "second_number_nan = df[df[\"second_road_number\"].isna()]\n",
        "second_number_not_nan = df[df[\"second_road_number\"].notna()]\n"
      ]
    },
    {
      "cell_type": "code",
      "execution_count": 51,
      "metadata": {
        "colab": {
          "base_uri": "https://localhost:8080/"
        },
        "id": "jjbiMRQmNql5",
        "outputId": "074562d4-3f05-4cb1-daae-8a2d47db4b55"
      },
      "outputs": [
        {
          "output_type": "execute_result",
          "data": {
            "text/plain": [
              "A               15386\n",
              "Unclassified    14050\n",
              "B                4799\n",
              "Motorway         2058\n",
              "C                1574\n",
              "A(M)              172\n",
              "Name: first_road_class, dtype: int64"
            ]
          },
          "metadata": {},
          "execution_count": 51
        }
      ],
      "source": [
        "second_number_nan['first_road_class'].value_counts()\n",
        "\n"
      ]
    },
    {
      "cell_type": "code",
      "execution_count": 52,
      "metadata": {
        "colab": {
          "base_uri": "https://localhost:8080/"
        },
        "id": "ph8srilBNql6",
        "outputId": "3cf86d5c-3b7b-414f-dcb4-d5ac08e3bbae"
      },
      "outputs": [
        {
          "output_type": "execute_result",
          "data": {
            "text/plain": [
              "first_road_class  second_road_class                  \n",
              "A                 -1                                        53\n",
              "                  A                                          3\n",
              "                  Not at junction or within 20 metres    15330\n",
              "A(M)              -1                                         2\n",
              "                  Not at junction or within 20 metres      170\n",
              "B                 -1                                         9\n",
              "                  Not at junction or within 20 metres     4790\n",
              "C                 -1                                        11\n",
              "                  Not at junction or within 20 metres     1563\n",
              "Motorway          Not at junction or within 20 metres     2058\n",
              "Unclassified      -1                                        35\n",
              "                  A                                          3\n",
              "                  B                                          1\n",
              "                  Not at junction or within 20 metres    14011\n",
              "Name: accident_year, dtype: int64"
            ]
          },
          "metadata": {},
          "execution_count": 52
        }
      ],
      "source": [
        "second_number_nan.groupby(by=['first_road_class', 'second_road_class'] ).count()['accident_year']"
      ]
    },
    {
      "cell_type": "code",
      "execution_count": 53,
      "metadata": {
        "colab": {
          "base_uri": "https://localhost:8080/"
        },
        "id": "ixuhS5_eNql6",
        "outputId": "23c2eb1f-f8a2-46e8-fc15-f5db071240b6"
      },
      "outputs": [
        {
          "output_type": "execute_result",
          "data": {
            "text/plain": [
              "first_road_class  second_road_class\n",
              "A                 A                     6506\n",
              "                  A(M)                    16\n",
              "                  B                     1931\n",
              "                  C                     1791\n",
              "                  Motorway               180\n",
              "                  Unclassified         14791\n",
              "A(M)              A                       16\n",
              "                  A(M)                     7\n",
              "                  B                        7\n",
              "                  Unclassified             5\n",
              "B                 A                      600\n",
              "                  A(M)                     5\n",
              "                  B                      889\n",
              "                  C                      391\n",
              "                  Motorway                11\n",
              "                  Unclassified          4790\n",
              "C                 A                      323\n",
              "                  B                       84\n",
              "                  C                      753\n",
              "                  Unclassified          2081\n",
              "Motorway          A                      160\n",
              "                  A(M)                     4\n",
              "                  B                        9\n",
              "                  Motorway               114\n",
              "                  Unclassified            28\n",
              "Unclassified      A                     1952\n",
              "                  A(M)                     4\n",
              "                  B                      735\n",
              "                  C                      219\n",
              "                  Motorway                 9\n",
              "                  Unclassified         14735\n",
              "Name: second_road_number, dtype: int64"
            ]
          },
          "metadata": {},
          "execution_count": 53
        }
      ],
      "source": [
        "second_number_not_nan.groupby(by=['first_road_class', 'second_road_class'] ).count()['second_road_number']\n"
      ]
    },
    {
      "cell_type": "markdown",
      "source": [
        "The road type values missing are missing at random."
      ],
      "metadata": {
        "id": "CaX5EvOTT0q9"
      }
    },
    {
      "cell_type": "code",
      "execution_count": 54,
      "metadata": {
        "colab": {
          "base_uri": "https://localhost:8080/"
        },
        "id": "afIpLRTxNql6",
        "outputId": "eb6e4947-155d-41a6-a2f6-06b39b8eca8d"
      },
      "outputs": [
        {
          "output_type": "execute_result",
          "data": {
            "text/plain": [
              "Fine no high winds              70720\n",
              "Raining no high winds           11581\n",
              "Other                            2629\n",
              "Raining + high winds             1665\n",
              "Fine + high winds                1400\n",
              "Fog or mist                       510\n",
              "Snowing no high winds             185\n",
              "Snowing + high winds               73\n",
              "Data missing or out of range        1\n",
              "Name: weather_conditions, dtype: int64"
            ]
          },
          "metadata": {},
          "execution_count": 54
        }
      ],
      "source": [
        "df['weather_conditions'].value_counts()"
      ]
    },
    {
      "cell_type": "code",
      "execution_count": 55,
      "metadata": {
        "id": "Iw0u4atmNql7"
      },
      "outputs": [],
      "source": [
        "\n",
        "\n",
        "df['date'] = pd.to_datetime(df['date'], dayfirst=True)\n"
      ]
    },
    {
      "cell_type": "code",
      "execution_count": 56,
      "metadata": {
        "id": "LdQ7s5SsNql7"
      },
      "outputs": [],
      "source": [
        "df['month'] =pd.DatetimeIndex(df['date']).month"
      ]
    },
    {
      "cell_type": "code",
      "execution_count": 57,
      "metadata": {
        "id": "GXyHOVEONql7"
      },
      "outputs": [],
      "source": [
        "weathers_nan = df[df[\"weather_conditions\"].isna()]['month'].value_counts().sort_index()\n",
        "weathers_not_nan = df[df[\"weather_conditions\"].notna()]['month'].value_counts().sort_index()"
      ]
    },
    {
      "cell_type": "code",
      "execution_count": 58,
      "metadata": {
        "id": "iFaCMEDwNql7"
      },
      "outputs": [],
      "source": [
        "def normalize(series_index):\n",
        "    return (series_index-series_index.min())/(series_index.max()-series_index.min())"
      ]
    },
    {
      "cell_type": "markdown",
      "source": [
        "The weather conditions values are missing completely at random."
      ],
      "metadata": {
        "id": "ibL9a_UzT-qT"
      }
    },
    {
      "cell_type": "markdown",
      "metadata": {
        "id": "EEE5cl_RNql8"
      },
      "source": [
        "## Handling Missing data"
      ]
    },
    {
      "cell_type": "code",
      "execution_count": 58,
      "metadata": {
        "id": "hzDBdK0wNql8"
      },
      "outputs": [],
      "source": []
    },
    {
      "cell_type": "code",
      "execution_count": 59,
      "metadata": {
        "id": "eNf7AOy7Nql8"
      },
      "outputs": [],
      "source": [
        "df.dropna(subset=[\"location_easting_osgr\",\"location_northing_osgr\" , \"longitude\" , \"latitude\"], inplace=True)"
      ]
    },
    {
      "cell_type": "markdown",
      "source": [
        "The rows with missing location easting osgr, location northing osgr, longitude, or latitude were dropped."
      ],
      "metadata": {
        "id": "s9eEJdJfVH34"
      }
    },
    {
      "cell_type": "code",
      "execution_count": 60,
      "metadata": {
        "id": "Qgm9g0OaNql9"
      },
      "outputs": [],
      "source": [
        "df['road_type'].unique()\n",
        "df['road_type'].value_counts()\n",
        "road_type_not_nan = df[ (df[\"road_type\"].notna())]\n",
        "def get_random_road_type (x) :\n",
        "    if(not isinstance(x, str)):\n",
        "        return np.random.choice(road_type_not_nan['road_type'])\n",
        "    return x\n",
        "df['road_type'] = df['road_type'].apply(get_random_road_type)"
      ]
    },
    {
      "cell_type": "markdown",
      "source": [
        "The missing road type values were imputed using the distribution of the available road type values; a random road type was chosen based on the distribution."
      ],
      "metadata": {
        "id": "hgL2u3WgVtgE"
      }
    },
    {
      "cell_type": "code",
      "execution_count": 61,
      "metadata": {
        "id": "_J0aBQZ7Nql9"
      },
      "outputs": [],
      "source": [
        "def get_mode_weather_conditions (x, mode, month) :\n",
        "    if(not isinstance(x, str) & x.month== month  ):\n",
        "        return mode\n",
        "    return x['weather_conditions']\n",
        "for i in range(1,12):\n",
        "    month_mode  = df.query('month == ' +str(i))['weather_conditions'].mode()[0]\n",
        "    df['new_weather_conditions']=df.apply(lambda row: month_mode if (not isinstance(row['weather_conditions'], str) &row['month']== i ) else row['weather_conditions'], axis=1)"
      ]
    },
    {
      "cell_type": "markdown",
      "source": [
        "The missing weather conditions values were imputed based on the weather condition mode of the month where the missing value lies."
      ],
      "metadata": {
        "id": "NRho6YyXXvWP"
      }
    },
    {
      "cell_type": "code",
      "execution_count": 62,
      "metadata": {
        "colab": {
          "base_uri": "https://localhost:8080/"
        },
        "id": "GKRCmKVHNql-",
        "outputId": "6b66a824-5a49-4694-89b7-9a3ddb664278"
      },
      "outputs": [
        {
          "output_type": "stream",
          "name": "stdout",
          "text": [
            "<class 'pandas.core.frame.DataFrame'>\n",
            "Int64Index: 91185 entries, 0 to 91198\n",
            "Data columns (total 39 columns):\n",
            " #   Column                                       Non-Null Count  Dtype         \n",
            "---  ------                                       --------------  -----         \n",
            " 0   accident_index                               91185 non-null  object        \n",
            " 1   accident_year                                91185 non-null  int64         \n",
            " 2   accident_reference                           91185 non-null  object        \n",
            " 3   location_easting_osgr                        91185 non-null  float64       \n",
            " 4   location_northing_osgr                       91185 non-null  float64       \n",
            " 5   longitude                                    91185 non-null  float64       \n",
            " 6   latitude                                     91185 non-null  float64       \n",
            " 7   police_force                                 91185 non-null  object        \n",
            " 8   accident_severity                            91185 non-null  object        \n",
            " 9   number_of_vehicles                           91185 non-null  int64         \n",
            " 10  number_of_casualties                         91185 non-null  int64         \n",
            " 11  date                                         91185 non-null  datetime64[ns]\n",
            " 12  day_of_week                                  91185 non-null  object        \n",
            " 13  time                                         91185 non-null  object        \n",
            " 14  local_authority_district                     91185 non-null  object        \n",
            " 15  local_authority_ons_district                 91185 non-null  object        \n",
            " 16  local_authority_highway                      91185 non-null  object        \n",
            " 17  first_road_class                             91185 non-null  object        \n",
            " 18  first_road_number                            91185 non-null  object        \n",
            " 19  road_type                                    91185 non-null  object        \n",
            " 20  speed_limit                                  91185 non-null  object        \n",
            " 21  junction_detail                              91185 non-null  object        \n",
            " 22  junction_control                             91185 non-null  object        \n",
            " 23  second_road_class                            91185 non-null  object        \n",
            " 24  second_road_number                           53146 non-null  object        \n",
            " 25  pedestrian_crossing_human_control            91185 non-null  object        \n",
            " 26  pedestrian_crossing_physical_facilities      91185 non-null  object        \n",
            " 27  light_conditions                             91185 non-null  object        \n",
            " 28  weather_conditions                           88764 non-null  object        \n",
            " 29  road_surface_conditions                      91185 non-null  object        \n",
            " 30  special_conditions_at_site                   91185 non-null  object        \n",
            " 31  carriageway_hazards                          91185 non-null  object        \n",
            " 32  urban_or_rural_area                          91185 non-null  object        \n",
            " 33  did_police_officer_attend_scene_of_accident  91185 non-null  object        \n",
            " 34  trunk_road_flag                              91185 non-null  object        \n",
            " 35  lsoa_of_accident_location                    91185 non-null  object        \n",
            " 36  time_hour                                    91185 non-null  object        \n",
            " 37  month                                        91185 non-null  int64         \n",
            " 38  new_weather_conditions                       91185 non-null  object        \n",
            "dtypes: datetime64[ns](1), float64(4), int64(4), object(30)\n",
            "memory usage: 27.8+ MB\n"
          ]
        }
      ],
      "source": [
        "df.info()"
      ]
    },
    {
      "cell_type": "markdown",
      "metadata": {
        "id": "mJI10pUrNql-"
      },
      "source": [
        "## Filling second road class manuaally"
      ]
    },
    {
      "cell_type": "code",
      "execution_count": 62,
      "metadata": {
        "id": "L0xl2pyBNql-"
      },
      "outputs": [],
      "source": []
    },
    {
      "cell_type": "code",
      "execution_count": 62,
      "metadata": {
        "id": "9LhKf6WZNql_"
      },
      "outputs": [],
      "source": []
    },
    {
      "cell_type": "markdown",
      "metadata": {
        "id": "cJHkfnA1Nql_"
      },
      "source": [
        "## Findings and conclusions"
      ]
    },
    {
      "cell_type": "code",
      "execution_count": 62,
      "metadata": {
        "id": "fCeuXGtYNql_"
      },
      "outputs": [],
      "source": []
    },
    {
      "cell_type": "code",
      "execution_count": 62,
      "metadata": {
        "id": "-aI7eJySNqmA"
      },
      "outputs": [],
      "source": []
    },
    {
      "cell_type": "markdown",
      "metadata": {
        "id": "q3Ko2nfdNqmA"
      },
      "source": [
        "\n",
        "\n",
        "\n",
        "## Observing outliers"
      ]
    },
    {
      "cell_type": "code",
      "execution_count": 63,
      "metadata": {
        "colab": {
          "base_uri": "https://localhost:8080/",
          "height": 534
        },
        "id": "CEI53aahNqmA",
        "outputId": "174c9d9d-5867-467b-95fa-4fab1d3da8b7"
      },
      "outputs": [
        {
          "output_type": "execute_result",
          "data": {
            "text/plain": [
              "<matplotlib.axes._subplots.AxesSubplot at 0x7fe3e2037e90>"
            ]
          },
          "metadata": {},
          "execution_count": 63
        },
        {
          "output_type": "display_data",
          "data": {
            "text/plain": [
              "<Figure size 842.4x595.44 with 1 Axes>"
            ],
            "image/png": "[encoded data removed]"
          },
          "metadata": {}
        }
      ],
      "source": [
        "sb.boxplot(x = df['number_of_casualties'], y=df['speed_limit'])\n"
      ]
    },
    {
      "cell_type": "markdown",
      "source": [
        "Due to the small range of the number of casualties and the boxplot in the above figure, we can conclude that there are no outliers in the number of casualties column."
      ],
      "metadata": {
        "id": "XTPaciXjYMMw"
      }
    },
    {
      "cell_type": "code",
      "execution_count": 64,
      "metadata": {
        "colab": {
          "base_uri": "https://localhost:8080/",
          "height": 534
        },
        "id": "sRkFEM86NqmA",
        "outputId": "bd57e537-fef8-4709-8189-6b62b1706dab"
      },
      "outputs": [
        {
          "output_type": "execute_result",
          "data": {
            "text/plain": [
              "<matplotlib.axes._subplots.AxesSubplot at 0x7fe3dee76310>"
            ]
          },
          "metadata": {},
          "execution_count": 64
        },
        {
          "output_type": "display_data",
          "data": {
            "text/plain": [
              "<Figure size 842.4x595.44 with 1 Axes>"
            ],
            "image/png": "[encoded data removed]"
          },
          "metadata": {}
        }
      ],
      "source": [
        "sb.boxplot(x = df['number_of_vehicles'], y=df['speed_limit'])\n"
      ]
    },
    {
      "cell_type": "markdown",
      "source": [
        "Similar to the number of casualties, there are no clear outliers in the number of vehicles due to the small range and the distribution."
      ],
      "metadata": {
        "id": "R6CRTDw6YlSD"
      }
    },
    {
      "cell_type": "code",
      "execution_count": 64,
      "metadata": {
        "id": "YjfVLQDkNqmB"
      },
      "outputs": [],
      "source": []
    },
    {
      "cell_type": "code",
      "execution_count": 64,
      "metadata": {
        "id": "j-VEpVxkNqmB"
      },
      "outputs": [],
      "source": []
    },
    {
      "cell_type": "markdown",
      "metadata": {
        "id": "2C2wkyY9NqmB"
      },
      "source": [
        "## Handling outliers"
      ]
    },
    {
      "cell_type": "markdown",
      "metadata": {
        "id": "TAx02b8yNqmB"
      },
      "source": []
    },
    {
      "cell_type": "markdown",
      "metadata": {
        "id": "ZyvZiVk8NqmC"
      },
      "source": [
        "## Findings and conclusions"
      ]
    },
    {
      "cell_type": "code",
      "execution_count": 64,
      "metadata": {
        "id": "r8suGSCVNqmC"
      },
      "outputs": [],
      "source": []
    },
    {
      "cell_type": "code",
      "execution_count": 64,
      "metadata": {
        "id": "8nm6GFhINqmC"
      },
      "outputs": [],
      "source": []
    },
    {
      "cell_type": "code",
      "execution_count": 64,
      "metadata": {
        "id": "Z6aNaep_NqmC"
      },
      "outputs": [],
      "source": []
    },
    {
      "cell_type": "markdown",
      "metadata": {
        "id": "6Hn7eA7dNqmD"
      },
      "source": [
        "# 4 - Data transformation"
      ]
    },
    {
      "cell_type": "markdown",
      "metadata": {
        "id": "rTP6e8BYNqmD"
      },
      "source": [
        "## 4.1 - Discretization"
      ]
    },
    {
      "cell_type": "code",
      "execution_count": 41,
      "metadata": {
        "id": "6esKBTkfNqmD"
      },
      "outputs": [],
      "source": []
    },
    {
      "cell_type": "code",
      "execution_count": 41,
      "metadata": {
        "id": "-Py5ACa7NqmD"
      },
      "outputs": [],
      "source": []
    },
    {
      "cell_type": "code",
      "execution_count": 41,
      "metadata": {
        "id": "iTCAyMXlNqmE"
      },
      "outputs": [],
      "source": []
    },
    {
      "cell_type": "markdown",
      "metadata": {
        "id": "SRjzKORDNqmE"
      },
      "source": [
        "## 4.11 - Findings and conclusions"
      ]
    },
    {
      "cell_type": "code",
      "execution_count": 41,
      "metadata": {
        "id": "iaKr2XGWNqmE"
      },
      "outputs": [],
      "source": []
    },
    {
      "cell_type": "code",
      "execution_count": 41,
      "metadata": {
        "id": "QU0RdR7iNqmE"
      },
      "outputs": [],
      "source": []
    },
    {
      "cell_type": "code",
      "execution_count": 41,
      "metadata": {
        "id": "o9eI0I7jNqmE"
      },
      "outputs": [],
      "source": []
    },
    {
      "cell_type": "markdown",
      "metadata": {
        "id": "puOIIalENqmE"
      },
      "source": [
        "## 4.2 - Encoding"
      ]
    },
    {
      "cell_type": "code",
      "execution_count": 42,
      "metadata": {
        "colab": {
          "base_uri": "https://localhost:8080/",
          "height": 502
        },
        "id": "aXnULcEiNqmF",
        "outputId": "5f4732da-810f-4e2a-bfd4-6aa4857f6116"
      },
      "outputs": [
        {
          "output_type": "error",
          "ename": "KeyError",
          "evalue": "ignored",
          "traceback": [
            "\u001b[0;31m---------------------------------------------------------------------------\u001b[0m",
            "\u001b[0;31mKeyError\u001b[0m                                  Traceback (most recent call last)",
            "\u001b[0;32m/usr/local/lib/python3.7/dist-packages/pandas/core/indexes/base.py\u001b[0m in \u001b[0;36mget_loc\u001b[0;34m(self, key, method, tolerance)\u001b[0m\n\u001b[1;32m   3360\u001b[0m             \u001b[0;32mtry\u001b[0m\u001b[0;34m:\u001b[0m\u001b[0;34m\u001b[0m\u001b[0;34m\u001b[0m\u001b[0m\n\u001b[0;32m-> 3361\u001b[0;31m                 \u001b[0;32mreturn\u001b[0m \u001b[0mself\u001b[0m\u001b[0;34m.\u001b[0m\u001b[0m_engine\u001b[0m\u001b[0;34m.\u001b[0m\u001b[0mget_loc\u001b[0m\u001b[0;34m(\u001b[0m\u001b[0mcasted_key\u001b[0m\u001b[0;34m)\u001b[0m\u001b[0;34m\u001b[0m\u001b[0;34m\u001b[0m\u001b[0m\n\u001b[0m\u001b[1;32m   3362\u001b[0m             \u001b[0;32mexcept\u001b[0m \u001b[0mKeyError\u001b[0m \u001b[0;32mas\u001b[0m \u001b[0merr\u001b[0m\u001b[0;34m:\u001b[0m\u001b[0;34m\u001b[0m\u001b[0;34m\u001b[0m\u001b[0m\n",
            "\u001b[0;32m/usr/local/lib/python3.7/dist-packages/pandas/_libs/index.pyx\u001b[0m in \u001b[0;36mpandas._libs.index.IndexEngine.get_loc\u001b[0;34m()\u001b[0m\n",
            "\u001b[0;32m/usr/local/lib/python3.7/dist-packages/pandas/_libs/index.pyx\u001b[0m in \u001b[0;36mpandas._libs.index.IndexEngine.get_loc\u001b[0;34m()\u001b[0m\n",
            "\u001b[0;32mpandas/_libs/hashtable_class_helper.pxi\u001b[0m in \u001b[0;36mpandas._libs.hashtable.PyObjectHashTable.get_item\u001b[0;34m()\u001b[0m\n",
            "\u001b[0;32mpandas/_libs/hashtable_class_helper.pxi\u001b[0m in \u001b[0;36mpandas._libs.hashtable.PyObjectHashTable.get_item\u001b[0;34m()\u001b[0m\n",
            "\u001b[0;31mKeyError\u001b[0m: ('urban_or_rural_area', 'accident_severity')",
            "\nThe above exception was the direct cause of the following exception:\n",
            "\u001b[0;31mKeyError\u001b[0m                                  Traceback (most recent call last)",
            "\u001b[0;32m<ipython-input-42-3c5b8add0f82>\u001b[0m in \u001b[0;36m<module>\u001b[0;34m\u001b[0m\n\u001b[0;32m----> 1\u001b[0;31m \u001b[0mdummies\u001b[0m \u001b[0;34m=\u001b[0m \u001b[0mpd\u001b[0m\u001b[0;34m.\u001b[0m\u001b[0mget_dummies\u001b[0m\u001b[0;34m(\u001b[0m\u001b[0mdf\u001b[0m\u001b[0;34m[\u001b[0m\u001b[0;34m'urban_or_rural_area'\u001b[0m\u001b[0;34m,\u001b[0m \u001b[0;34m'accident_severity'\u001b[0m\u001b[0;34m]\u001b[0m\u001b[0;34m)\u001b[0m\u001b[0;34m\u001b[0m\u001b[0;34m\u001b[0m\u001b[0m\n\u001b[0m\u001b[1;32m      2\u001b[0m \u001b[0mdf\u001b[0m \u001b[0;34m=\u001b[0m \u001b[0mpd\u001b[0m\u001b[0;34m.\u001b[0m\u001b[0mconcat\u001b[0m\u001b[0;34m(\u001b[0m\u001b[0;34m[\u001b[0m\u001b[0mdf\u001b[0m\u001b[0;34m,\u001b[0m \u001b[0mdummies\u001b[0m\u001b[0;34m]\u001b[0m\u001b[0;34m,\u001b[0m \u001b[0maxis\u001b[0m\u001b[0;34m=\u001b[0m\u001b[0;36m1\u001b[0m\u001b[0;34m)\u001b[0m\u001b[0;34m.\u001b[0m\u001b[0mreindex\u001b[0m\u001b[0;34m(\u001b[0m\u001b[0mdf\u001b[0m\u001b[0;34m.\u001b[0m\u001b[0mindex\u001b[0m\u001b[0;34m)\u001b[0m\u001b[0;34m\u001b[0m\u001b[0;34m\u001b[0m\u001b[0m\n\u001b[1;32m      3\u001b[0m \u001b[0mdf\u001b[0m\u001b[0;34m.\u001b[0m\u001b[0mhead\u001b[0m\u001b[0;34m(\u001b[0m\u001b[0;34m)\u001b[0m\u001b[0;34m\u001b[0m\u001b[0;34m\u001b[0m\u001b[0m\n",
            "\u001b[0;32m/usr/local/lib/python3.7/dist-packages/pandas/core/frame.py\u001b[0m in \u001b[0;36m__getitem__\u001b[0;34m(self, key)\u001b[0m\n\u001b[1;32m   3456\u001b[0m             \u001b[0;32mif\u001b[0m \u001b[0mself\u001b[0m\u001b[0;34m.\u001b[0m\u001b[0mcolumns\u001b[0m\u001b[0;34m.\u001b[0m\u001b[0mnlevels\u001b[0m \u001b[0;34m>\u001b[0m \u001b[0;36m1\u001b[0m\u001b[0;34m:\u001b[0m\u001b[0;34m\u001b[0m\u001b[0;34m\u001b[0m\u001b[0m\n\u001b[1;32m   3457\u001b[0m                 \u001b[0;32mreturn\u001b[0m \u001b[0mself\u001b[0m\u001b[0;34m.\u001b[0m\u001b[0m_getitem_multilevel\u001b[0m\u001b[0;34m(\u001b[0m\u001b[0mkey\u001b[0m\u001b[0;34m)\u001b[0m\u001b[0;34m\u001b[0m\u001b[0;34m\u001b[0m\u001b[0m\n\u001b[0;32m-> 3458\u001b[0;31m             \u001b[0mindexer\u001b[0m \u001b[0;34m=\u001b[0m \u001b[0mself\u001b[0m\u001b[0;34m.\u001b[0m\u001b[0mcolumns\u001b[0m\u001b[0;34m.\u001b[0m\u001b[0mget_loc\u001b[0m\u001b[0;34m(\u001b[0m\u001b[0mkey\u001b[0m\u001b[0;34m)\u001b[0m\u001b[0;34m\u001b[0m\u001b[0;34m\u001b[0m\u001b[0m\n\u001b[0m\u001b[1;32m   3459\u001b[0m             \u001b[0;32mif\u001b[0m \u001b[0mis_integer\u001b[0m\u001b[0;34m(\u001b[0m\u001b[0mindexer\u001b[0m\u001b[0;34m)\u001b[0m\u001b[0;34m:\u001b[0m\u001b[0;34m\u001b[0m\u001b[0;34m\u001b[0m\u001b[0m\n\u001b[1;32m   3460\u001b[0m                 \u001b[0mindexer\u001b[0m \u001b[0;34m=\u001b[0m \u001b[0;34m[\u001b[0m\u001b[0mindexer\u001b[0m\u001b[0;34m]\u001b[0m\u001b[0;34m\u001b[0m\u001b[0;34m\u001b[0m\u001b[0m\n",
            "\u001b[0;32m/usr/local/lib/python3.7/dist-packages/pandas/core/indexes/base.py\u001b[0m in \u001b[0;36mget_loc\u001b[0;34m(self, key, method, tolerance)\u001b[0m\n\u001b[1;32m   3361\u001b[0m                 \u001b[0;32mreturn\u001b[0m \u001b[0mself\u001b[0m\u001b[0;34m.\u001b[0m\u001b[0m_engine\u001b[0m\u001b[0;34m.\u001b[0m\u001b[0mget_loc\u001b[0m\u001b[0;34m(\u001b[0m\u001b[0mcasted_key\u001b[0m\u001b[0;34m)\u001b[0m\u001b[0;34m\u001b[0m\u001b[0;34m\u001b[0m\u001b[0m\n\u001b[1;32m   3362\u001b[0m             \u001b[0;32mexcept\u001b[0m \u001b[0mKeyError\u001b[0m \u001b[0;32mas\u001b[0m \u001b[0merr\u001b[0m\u001b[0;34m:\u001b[0m\u001b[0;34m\u001b[0m\u001b[0;34m\u001b[0m\u001b[0m\n\u001b[0;32m-> 3363\u001b[0;31m                 \u001b[0;32mraise\u001b[0m \u001b[0mKeyError\u001b[0m\u001b[0;34m(\u001b[0m\u001b[0mkey\u001b[0m\u001b[0;34m)\u001b[0m \u001b[0;32mfrom\u001b[0m \u001b[0merr\u001b[0m\u001b[0;34m\u001b[0m\u001b[0;34m\u001b[0m\u001b[0m\n\u001b[0m\u001b[1;32m   3364\u001b[0m \u001b[0;34m\u001b[0m\u001b[0m\n\u001b[1;32m   3365\u001b[0m         \u001b[0;32mif\u001b[0m \u001b[0mis_scalar\u001b[0m\u001b[0;34m(\u001b[0m\u001b[0mkey\u001b[0m\u001b[0;34m)\u001b[0m \u001b[0;32mand\u001b[0m \u001b[0misna\u001b[0m\u001b[0;34m(\u001b[0m\u001b[0mkey\u001b[0m\u001b[0;34m)\u001b[0m \u001b[0;32mand\u001b[0m \u001b[0;32mnot\u001b[0m \u001b[0mself\u001b[0m\u001b[0;34m.\u001b[0m\u001b[0mhasnans\u001b[0m\u001b[0;34m:\u001b[0m\u001b[0;34m\u001b[0m\u001b[0;34m\u001b[0m\u001b[0m\n",
            "\u001b[0;31mKeyError\u001b[0m: ('urban_or_rural_area', 'accident_severity')"
          ]
        }
      ],
      "source": [
        "dummies = pd.get_dummies(df['urban_or_rural_area', 'accident_severity'])\n",
        "df = pd.concat([df, dummies], axis=1).reindex(df.index)\n",
        "df.head()"
      ]
    },
    {
      "cell_type": "code",
      "execution_count": null,
      "metadata": {
        "id": "njbaFj84NqmF"
      },
      "outputs": [],
      "source": []
    },
    {
      "cell_type": "code",
      "execution_count": null,
      "metadata": {
        "id": "xeAcCUVoNqmF"
      },
      "outputs": [],
      "source": []
    },
    {
      "cell_type": "markdown",
      "metadata": {
        "id": "asobD9WMNqmF"
      },
      "source": [
        "## 4.22 - Findings and conlcusions"
      ]
    },
    {
      "cell_type": "code",
      "execution_count": null,
      "metadata": {
        "id": "2a4Xl-HiNqmF"
      },
      "outputs": [],
      "source": []
    },
    {
      "cell_type": "code",
      "execution_count": null,
      "metadata": {
        "id": "YASKKi3ENqmF"
      },
      "outputs": [],
      "source": []
    },
    {
      "cell_type": "code",
      "execution_count": null,
      "metadata": {
        "id": "We-xMTdMNqmG"
      },
      "outputs": [],
      "source": []
    },
    {
      "cell_type": "markdown",
      "metadata": {
        "id": "cEawrmVuNqmG"
      },
      "source": [
        "## 4.3 - Normalisation "
      ]
    },
    {
      "cell_type": "code",
      "execution_count": null,
      "metadata": {
        "id": "8fLGSudNNqmG"
      },
      "outputs": [],
      "source": []
    },
    {
      "cell_type": "code",
      "execution_count": null,
      "metadata": {
        "id": "NwPqD3zXNqmG"
      },
      "outputs": [],
      "source": []
    },
    {
      "cell_type": "code",
      "execution_count": null,
      "metadata": {
        "id": "3UfNKyU7NqmG"
      },
      "outputs": [],
      "source": []
    },
    {
      "cell_type": "markdown",
      "metadata": {
        "id": "WZFPIDGBNqmH"
      },
      "source": [
        "## 4.31 - Findings and conclusions"
      ]
    },
    {
      "cell_type": "code",
      "execution_count": null,
      "metadata": {
        "id": "y_jdSYiUNqmH"
      },
      "outputs": [],
      "source": []
    },
    {
      "cell_type": "code",
      "execution_count": null,
      "metadata": {
        "id": "cdjfCiO5NqmH"
      },
      "outputs": [],
      "source": []
    },
    {
      "cell_type": "code",
      "execution_count": null,
      "metadata": {
        "id": "k4KdPilsNqmH"
      },
      "outputs": [],
      "source": []
    },
    {
      "cell_type": "markdown",
      "metadata": {
        "id": "-NgkvVA-NqmH"
      },
      "source": [
        "## 4.4 - Adding more columns"
      ]
    },
    {
      "cell_type": "code",
      "execution_count": null,
      "metadata": {
        "id": "U09lx5hqNqmI"
      },
      "outputs": [],
      "source": [
        "df['week_number'] = df['date'].dt.week"
      ]
    },
    {
      "cell_type": "code",
      "execution_count": null,
      "metadata": {
        "id": "vfBrJ8aNNqmI"
      },
      "outputs": [],
      "source": [
        "df.head()"
      ]
    },
    {
      "cell_type": "code",
      "execution_count": null,
      "metadata": {
        "id": "oe05N7M1NqmI"
      },
      "outputs": [],
      "source": []
    },
    {
      "cell_type": "markdown",
      "metadata": {
        "id": "oQSL5mmHNqmI"
      },
      "source": [
        "## 4.41 - Findings and concluisons"
      ]
    },
    {
      "cell_type": "code",
      "execution_count": null,
      "metadata": {
        "id": "ZsuViM3INqmJ"
      },
      "outputs": [],
      "source": []
    },
    {
      "cell_type": "code",
      "execution_count": null,
      "metadata": {
        "id": "tyCEUEaONqmJ"
      },
      "outputs": [],
      "source": []
    },
    {
      "cell_type": "markdown",
      "metadata": {
        "id": "zSniAWxENqmJ"
      },
      "source": [
        "## 4.5 - Csv file for lookup"
      ]
    },
    {
      "cell_type": "code",
      "execution_count": null,
      "metadata": {
        "id": "ltiWIXvJNqmJ"
      },
      "outputs": [],
      "source": []
    },
    {
      "cell_type": "code",
      "execution_count": null,
      "metadata": {
        "id": "7lzo-u7YNqmJ"
      },
      "outputs": [],
      "source": []
    },
    {
      "cell_type": "code",
      "execution_count": null,
      "metadata": {
        "id": "y5-g-FepNqmK"
      },
      "outputs": [],
      "source": [
        "df.to_csv('mydataframe.csv')"
      ]
    },
    {
      "cell_type": "markdown",
      "metadata": {
        "id": "1oQXNqcFNqmK"
      },
      "source": [
        "## 5- Exporting the dataframe to a csv file or parquet"
      ]
    },
    {
      "cell_type": "code",
      "execution_count": null,
      "metadata": {
        "id": "nZYN2HbhNqmK"
      },
      "outputs": [],
      "source": [
        "pip install fastparquet"
      ]
    },
    {
      "cell_type": "code",
      "execution_count": null,
      "metadata": {
        "id": "aq0AOVmYNqmL"
      },
      "outputs": [],
      "source": [
        "df.to_parquet('mydataframe.parquet')"
      ]
    },
    {
      "cell_type": "code",
      "execution_count": null,
      "metadata": {
        "id": "D7zFk4SXNqmL"
      },
      "outputs": [],
      "source": []
    }
  ],
  "metadata": {
    "kernelspec": {
      "display_name": "Python 3.10.5 64-bit",
      "language": "python",
      "name": "python3"
    },
    "language_info": {
      "codemirror_mode": {
        "name": "ipython",
        "version": 3
      },
      "file_extension": ".py",
      "mimetype": "text/x-python",
      "name": "python",
      "nbconvert_exporter": "python",
      "pygments_lexer": "ipython3",
      "version": "3.10.5"
    },
    "vscode": {
      "interpreter": {
        "hash": "369f2c481f4da34e4445cda3fffd2e751bd1c4d706f27375911949ba6bb62e1c"
      }
    },
    "colab": {
      "provenance": []
    }
  },
  "nbformat": 4,
  "nbformat_minor": 0
}